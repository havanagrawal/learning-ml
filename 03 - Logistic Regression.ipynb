{
 "cells": [
  {
   "cell_type": "code",
   "execution_count": 1,
   "metadata": {
    "ExecuteTime": {
     "end_time": "2018-08-28T01:54:41.638895Z",
     "start_time": "2018-08-28T01:54:41.568934Z"
    }
   },
   "outputs": [],
   "source": [
    "import numpy as np"
   ]
  },
  {
   "cell_type": "code",
   "execution_count": 2,
   "metadata": {
    "ExecuteTime": {
     "end_time": "2018-08-28T01:54:41.800743Z",
     "start_time": "2018-08-28T01:54:41.640969Z"
    }
   },
   "outputs": [],
   "source": [
    "%matplotlib inline\n",
    "import matplotlib.pyplot as plt"
   ]
  },
  {
   "cell_type": "markdown",
   "metadata": {},
   "source": [
    "### Introduction"
   ]
  },
  {
   "cell_type": "markdown",
   "metadata": {},
   "source": [
    "**From Wikipedia**\n",
    "\n",
    "_A logistic model is one where the log-odds of the probability of an event is a linear combination of independent or predictor variables._\n",
    "\n",
    "The log-odds or logit function is given by:\n",
    "\n",
    "$$log\\left(\\frac{p}{1 - p}\\right)$$"
   ]
  },
  {
   "cell_type": "markdown",
   "metadata": {},
   "source": [
    "Let $p = P(X)$ be the probability of the event under consideration. \n",
    "\n",
    "By definition, we have\n",
    "\n",
    "$log\\left(\\frac{p}{1 - p}\\right) = \\beta_0 + \\beta_1 x_1 + \\beta_2 x_2 \\ldots$\n",
    "\n",
    "$\\Rightarrow \\frac{p}{1 - p} = e^{\\beta_0 + \\beta_1 x_1 + \\beta_2 x_2 \\ldots}$\n",
    "\n",
    "$\\Rightarrow \\frac{1 - p}{p} = e^{-(\\beta_0 + \\beta_1 x_1 + \\beta_2 x_2 \\ldots)}$\n",
    "\n",
    "$\\Rightarrow \\frac{1}{p} = 1 + e^{-(\\beta_0 + \\beta_1 x_1 + \\beta_2 x_2 \\ldots)}$\n",
    "\n",
    "$\\Rightarrow p = \\frac{1}{1 + e^{-(\\beta_0 + \\beta_1 x_1 + \\beta_2 x_2 \\ldots)}}$\n",
    "\n",
    "$\\Rightarrow p = \\frac{1}{1 + e^{-z}}$\n",
    "\n",
    "where $z = \\beta_0 + \\beta_1 x_1 + \\beta_2 x_2 \\ldots$\n",
    "\n",
    "i.e. This is equivalent of saying that probability of the event is the logistic function applied to a linear combination of independent or predictor variables, where the logistic function is given by:\n",
    "\n",
    "$$\\sigma(z) = \\frac{e^z}{1 + e^z} = \\frac{1}{1 + e^{-z}}$$"
   ]
  },
  {
   "cell_type": "markdown",
   "metadata": {},
   "source": [
    "Note: By definition, the odds are given by:\n",
    "\n",
    "Odds = $\\frac{p}{1 - p} = e^z$"
   ]
  },
  {
   "cell_type": "code",
   "execution_count": 8,
   "metadata": {
    "ExecuteTime": {
     "end_time": "2018-08-28T01:55:42.806006Z",
     "start_time": "2018-08-28T01:55:42.801772Z"
    }
   },
   "outputs": [],
   "source": [
    "def sigmoid(z):\n",
    "    return 1/(1 + np.exp(-z))\n",
    "\n",
    "def logit(p):\n",
    "    return np.log(p/(1 - p))"
   ]
  },
  {
   "cell_type": "code",
   "execution_count": 4,
   "metadata": {
    "ExecuteTime": {
     "end_time": "2018-08-28T01:54:41.817102Z",
     "start_time": "2018-08-28T01:54:41.808750Z"
    }
   },
   "outputs": [
    {
     "data": {
      "text/plain": [
       "(0.5, 0.7310585786300049)"
      ]
     },
     "execution_count": 4,
     "metadata": {},
     "output_type": "execute_result"
    }
   ],
   "source": [
    "sigmoid(0), sigmoid(1)"
   ]
  },
  {
   "cell_type": "code",
   "execution_count": 5,
   "metadata": {
    "ExecuteTime": {
     "end_time": "2018-08-28T01:54:42.028342Z",
     "start_time": "2018-08-28T01:54:41.819515Z"
    }
   },
   "outputs": [
    {
     "data": {
      "image/png": "[encoded data removed]",
      "text/plain": [
       "<matplotlib.figure.Figure at 0x10b07bdd8>"
      ]
     },
     "metadata": {},
     "output_type": "display_data"
    }
   ],
   "source": [
    "plt.figure(figsize=(6, 4))\n",
    "plt.plot(np.arange(-5, 5, 0.01), sigmoid(np.arange(-5, 5, 0.01)))\n",
    "plt.grid()\n",
    "plt.hlines([0.5], -5, 5, linestyles='dotted', colors='r')\n",
    "plt.vlines([0], 0, 1, linestyles='dotted', colors='r')\n",
    "_ = plt.title(\"The Sigmoid Function\")"
   ]
  },
  {
   "cell_type": "code",
   "execution_count": 12,
   "metadata": {
    "ExecuteTime": {
     "end_time": "2018-08-28T01:56:20.231944Z",
     "start_time": "2018-08-28T01:56:20.118270Z"
    }
   },
   "outputs": [
    {
     "name": "stderr",
     "output_type": "stream",
     "text": [
      "/Users/havan/anaconda3/lib/python3.6/site-packages/ipykernel_launcher.py:5: RuntimeWarning: divide by zero encountered in log\n",
      "  \"\"\"\n"
     ]
    },
    {
     "data": {
      "image/png": "[encoded data removed]",
      "text/plain": [
       "<matplotlib.figure.Figure at 0x110d5ddd8>"
      ]
     },
     "metadata": {},
     "output_type": "display_data"
    }
   ],
   "source": [
    "plt.figure(figsize=(6, 4))\n",
    "plt.plot(np.arange(0, 1, 0.01), logit(np.arange(0, 1, 0.01)))\n",
    "plt.grid()\n",
    "plt.hlines([0], 0, 1, linestyles='dotted', colors='r')\n",
    "plt.vlines([0.5], -5, 5, linestyles='dotted', colors='r')\n",
    "_ = plt.title(\"The Logit Function\")"
   ]
  },
  {
   "cell_type": "markdown",
   "metadata": {},
   "source": [
    "## Training a Model"
   ]
  },
  {
   "cell_type": "code",
   "execution_count": null,
   "metadata": {},
   "outputs": [],
   "source": []
  }
 ],
 "metadata": {
  "kernelspec": {
   "display_name": "Python 3",
   "language": "python",
   "name": "python3"
  },
  "language_info": {
   "codemirror_mode": {
    "name": "ipython",
    "version": 3
   },
   "file_extension": ".py",
   "mimetype": "text/x-python",
   "name": "python",
   "nbconvert_exporter": "python",
   "pygments_lexer": "ipython3",
   "version": "3.6.4"
  }
 },
 "nbformat": 4,
 "nbformat_minor": 2
}
