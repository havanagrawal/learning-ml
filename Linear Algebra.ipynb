{
 "cells": [
  {
   "cell_type": "markdown",
   "metadata": {},
   "source": [
    "# Linear Algebra"
   ]
  },
  {
   "cell_type": "markdown",
   "metadata": {},
   "source": [
    "This notebook is a simple translation of the linear algebra revision lecture into Python constructs, using numpy"
   ]
  },
  {
   "cell_type": "code",
   "execution_count": 1,
   "metadata": {},
   "outputs": [],
   "source": [
    "import numpy as np"
   ]
  },
  {
   "cell_type": "code",
   "execution_count": 2,
   "metadata": {},
   "outputs": [],
   "source": [
    "np.random.seed(42)"
   ]
  },
  {
   "cell_type": "markdown",
   "metadata": {},
   "source": [
    "Please note that Python uses 0-based indexing, as does the rest of this notebook"
   ]
  },
  {
   "cell_type": "markdown",
   "metadata": {},
   "source": [
    "## Basic Notation"
   ]
  },
  {
   "cell_type": "markdown",
   "metadata": {},
   "source": [
    "$A \\in \\mathbb{R}^{m x n}$ is a matrix with m rows and n columns"
   ]
  },
  {
   "cell_type": "code",
   "execution_count": 3,
   "metadata": {},
   "outputs": [
    {
     "data": {
      "text/plain": [
       "array([[ 0.49671415, -0.1382643 ,  0.64768854],\n",
       "       [ 1.52302986, -0.23415337, -0.23413696],\n",
       "       [ 1.57921282,  0.76743473, -0.46947439],\n",
       "       [ 0.54256004, -0.46341769, -0.46572975],\n",
       "       [ 0.24196227, -1.91328024, -1.72491783]])"
      ]
     },
     "execution_count": 3,
     "metadata": {},
     "output_type": "execute_result"
    }
   ],
   "source": [
    "m = 5\n",
    "n = 3\n",
    "A = np.random.randn(m, n)\n",
    "A"
   ]
  },
  {
   "cell_type": "markdown",
   "metadata": {},
   "source": [
    "$x \\in \\mathbb{R}^{n}$ is a vector with n rows"
   ]
  },
  {
   "cell_type": "code",
   "execution_count": 4,
   "metadata": {},
   "outputs": [
    {
     "data": {
      "text/plain": [
       "array([-0.56228753, -1.01283112,  0.31424733])"
      ]
     },
     "execution_count": 4,
     "metadata": {},
     "output_type": "execute_result"
    }
   ],
   "source": [
    "x = np.random.randn(n)\n",
    "x"
   ]
  },
  {
   "cell_type": "markdown",
   "metadata": {},
   "source": [
    "$a_{ij}$ is the entry in the ith row and jth column of A"
   ]
  },
  {
   "cell_type": "code",
   "execution_count": 5,
   "metadata": {},
   "outputs": [
    {
     "data": {
      "text/plain": [
       "0.76743472915290878"
      ]
     },
     "execution_count": 5,
     "metadata": {},
     "output_type": "execute_result"
    }
   ],
   "source": [
    "i = 2\n",
    "j = 1\n",
    "a_ij = A[i][j]\n",
    "a_ij"
   ]
  },
  {
   "cell_type": "markdown",
   "metadata": {},
   "source": [
    "## Matrix Multiplication"
   ]
  },
  {
   "cell_type": "markdown",
   "metadata": {},
   "source": [
    "The product of two matrixes $A \\in \\mathbb{R}^{m x n}$ and $B \\in \\mathbb{R}^{n x p}$ is the matrix \n",
    "\n",
    "$C = AB \\in \\mathbb{R}^{m x p}$ where \n",
    "\n",
    "$C_{ij} = \\sum_{k=1}^{n} A_{ik} B_{kj}$"
   ]
  },
  {
   "cell_type": "code",
   "execution_count": 6,
   "metadata": {},
   "outputs": [
    {
     "data": {
      "text/plain": [
       "array([[-0.90802408, -1.4123037 ,  1.46564877, -0.2257763 ,  0.0675282 ,\n",
       "        -1.42474819],\n",
       "       [-0.54438272,  0.11092259, -1.15099358,  0.37569802, -0.60063869,\n",
       "        -0.29169375],\n",
       "       [-0.60170661,  1.85227818, -0.01349722, -1.05771093,  0.82254491,\n",
       "        -1.22084365]])"
      ]
     },
     "execution_count": 6,
     "metadata": {},
     "output_type": "execute_result"
    }
   ],
   "source": [
    "p = 6\n",
    "B = np.random.randn(n, p)\n",
    "B"
   ]
  },
  {
   "cell_type": "code",
   "execution_count": 7,
   "metadata": {},
   "outputs": [
    {
     "data": {
      "text/plain": [
       "array([[-0.76547819,  0.48285148,  0.87840781, -0.84915915,  0.64934202,\n",
       "        -1.45808819],\n",
       "       [-1.11459697, -2.61064038,  2.50489606, -0.18418579,  0.05090089,\n",
       "        -1.81578833],\n",
       "       [-1.56925562, -3.01479942,  1.43759548,  0.42834307, -0.74047335,\n",
       "        -1.90068169],\n",
       "       [ 0.03985168, -1.68032411,  1.33487931,  0.19600514, -0.06809894,\n",
       "        -0.06925218],\n",
       "       [ 1.85974361, -3.74897788,  2.58008658,  1.0510195 , -0.25329297,\n",
       "         2.31921156]])"
      ]
     },
     "execution_count": 7,
     "metadata": {},
     "output_type": "execute_result"
    }
   ],
   "source": [
    "C = np.matmul(A, B)\n",
    "C"
   ]
  },
  {
   "cell_type": "code",
   "execution_count": 11,
   "metadata": {},
   "outputs": [
    {
     "data": {
      "text/plain": [
       "array([[-0.76547819,  0.48285148,  0.87840781, -0.84915915,  0.64934202,\n",
       "        -1.45808819],\n",
       "       [-1.11459697, -2.61064038,  2.50489606, -0.18418579,  0.05090089,\n",
       "        -1.81578833],\n",
       "       [-1.56925562, -3.01479942,  1.43759548,  0.42834307, -0.74047335,\n",
       "        -1.90068169],\n",
       "       [ 0.03985168, -1.68032411,  1.33487931,  0.19600514, -0.06809894,\n",
       "        -0.06925218],\n",
       "       [ 1.85974361, -3.74897788,  2.58008658,  1.0510195 , -0.25329297,\n",
       "         2.31921156]])"
      ]
     },
     "execution_count": 11,
     "metadata": {},
     "output_type": "execute_result"
    }
   ],
   "source": [
    "# Sanity check:\n",
    "C_manual = np.zeros((m, p))\n",
    "for i in range(m):\n",
    "    for j in range(p):\n",
    "        for k in range(n):\n",
    "            C_manual[i][j] += A[i][k] * B[k][j]\n",
    "\n",
    "C_manual"
   ]
  },
  {
   "cell_type": "code",
   "execution_count": 9,
   "metadata": {},
   "outputs": [
    {
     "name": "stdout",
     "output_type": "stream",
     "text": [
      "(5, 3)\n",
      "(3, 6)\n",
      "(5, 6)\n"
     ]
    }
   ],
   "source": [
    "print(A.shape)\n",
    "print(B.shape)\n",
    "print(C.shape)"
   ]
  },
  {
   "cell_type": "markdown",
   "metadata": {},
   "source": [
    "### Vector-Vector Products"
   ]
  },
  {
   "cell_type": "markdown",
   "metadata": {},
   "source": [
    "Given two vectors $x, y \\in \\mathbb{R}^{n}$, $x^{T}y$, called the inner product or dot product, is a real number given by:\n",
    "\n",
    "$x^{T}y \\in \\mathbb{R} = \\sum_{i=1}^{n} x_{i} y_{i}$"
   ]
  },
  {
   "cell_type": "code",
   "execution_count": 13,
   "metadata": {},
   "outputs": [
    {
     "name": "stdout",
     "output_type": "stream",
     "text": [
      "[ 0.2088636  -1.95967012 -1.32818605]\n",
      "[ 0.19686124  0.73846658  0.17136828]\n"
     ]
    }
   ],
   "source": [
    "x = np.random.randn(n)\n",
    "y = np.random.randn(n)\n",
    "print(x)\n",
    "print(y)"
   ]
  },
  {
   "cell_type": "code",
   "execution_count": 14,
   "metadata": {},
   "outputs": [
    {
     "data": {
      "text/plain": [
       "-1.6336427091601982"
      ]
     },
     "execution_count": 14,
     "metadata": {},
     "output_type": "execute_result"
    }
   ],
   "source": [
    "np.dot(x, y)"
   ]
  },
  {
   "cell_type": "code",
   "execution_count": 17,
   "metadata": {},
   "outputs": [
    {
     "data": {
      "text/plain": [
       "-1.6336427091601982"
      ]
     },
     "execution_count": 17,
     "metadata": {},
     "output_type": "execute_result"
    }
   ],
   "source": [
    "# Sanity check\n",
    "dot_prod = 0\n",
    "for i in range(n):\n",
    "    dot_prod += x[i] * y[i]\n",
    "    \n",
    "dot_prod"
   ]
  },
  {
   "cell_type": "markdown",
   "metadata": {},
   "source": [
    "Given $x \\in \\mathbb{R}^{m}, y \\in \\mathbb{R}^{n}$\n",
    "\n",
    "$xy^T \\in \\mathbb{R}^{m x n}$ is called the outer product of the vectors."
   ]
  },
  {
   "cell_type": "code",
   "execution_count": 18,
   "metadata": {},
   "outputs": [
    {
     "name": "stdout",
     "output_type": "stream",
     "text": [
      "[-0.11564828 -0.3011037  -1.47852199 -0.71984421 -0.46063877]\n",
      "[ 1.05712223  0.34361829 -1.76304016]\n"
     ]
    }
   ],
   "source": [
    "x = np.random.randn(m)\n",
    "y = np.random.randn(n)\n",
    "print(x)\n",
    "print(y)"
   ]
  },
  {
   "cell_type": "code",
   "execution_count": 19,
   "metadata": {},
   "outputs": [
    {
     "data": {
      "text/plain": [
       "array([[-0.12225437, -0.03973886,  0.20389257],\n",
       "       [-0.31830341, -0.10346474,  0.53085791],\n",
       "       [-1.56297846, -0.5080472 ,  2.60669364],\n",
       "       [-0.76096331, -0.24735164,  1.26911425],\n",
       "       [-0.48695148, -0.15828391,  0.81212465]])"
      ]
     },
     "execution_count": 19,
     "metadata": {},
     "output_type": "execute_result"
    }
   ],
   "source": [
    "np.outer(x, y)"
   ]
  },
  {
   "cell_type": "markdown",
   "metadata": {},
   "source": [
    "### Matrix-Vector Products"
   ]
  },
  {
   "cell_type": "code",
   "execution_count": null,
   "metadata": {},
   "outputs": [],
   "source": []
  }
 ],
 "metadata": {
  "kernelspec": {
   "display_name": "Python 3",
   "language": "python",
   "name": "python3"
  },
  "language_info": {
   "codemirror_mode": {
    "name": "ipython",
    "version": 3
   },
   "file_extension": ".py",
   "mimetype": "text/x-python",
   "name": "python",
   "nbconvert_exporter": "python",
   "pygments_lexer": "ipython3",
   "version": "3.6.4"
  },
  "varInspector": {
   "cols": {
    "lenName": 16,
    "lenType": 16,
    "lenVar": 40
   },
   "kernels_config": {
    "python": {
     "delete_cmd_postfix": "",
     "delete_cmd_prefix": "del ",
     "library": "var_list.py",
     "varRefreshCmd": "print(var_dic_list())"
    },
    "r": {
     "delete_cmd_postfix": ") ",
     "delete_cmd_prefix": "rm(",
     "library": "var_list.r",
     "varRefreshCmd": "cat(var_dic_list()) "
    }
   },
   "types_to_exclude": [
    "module",
    "function",
    "builtin_function_or_method",
    "instance",
    "_Feature"
   ],
   "window_display": false
  }
 },
 "nbformat": 4,
 "nbformat_minor": 2
}
