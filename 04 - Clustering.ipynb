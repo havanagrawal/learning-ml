{
 "cells": [
  {
   "cell_type": "markdown",
   "metadata": {},
   "source": [
    "# Session 04 - Clustering"
   ]
  },
  {
   "cell_type": "markdown",
   "metadata": {},
   "source": [
    "Clustering (or cluster analysis) is the task of grouping a set of objects in such a way that objects in the same group (called a cluster) are more similar (in some sense) to each other than to those in other groups (clusters).\n",
    "\n",
    "Clustering is an unsuperwised learning technique."
   ]
  },
  {
   "cell_type": "markdown",
   "metadata": {},
   "source": [
    "There are dozens of clustering algorithms, but they can be broadly classified into categories based on how they create clusters:\n",
    "\n",
    "1. Connectivity-based clustering (hierarchical clustering)\n",
    "1. Centroid-based clustering\n",
    "1. Distribution-based clustering\n",
    "1. Density-based clustering\n",
    "\n",
    "In this notebook, we implement the following algorithms:\n",
    "\n",
    "1. [K-Means Clustering](#k-means)\n",
    "1. DBSCAN (**D**ensity-**B**ased **S**patial **C**lustering of **A**pplications with **N**oise)\n",
    "1. Agglomerative Heirarchical Clustering\n",
    "1. Mean-Shift Clustering"
   ]
  },
  {
   "cell_type": "code",
   "execution_count": 1,
   "metadata": {
    "ExecuteTime": {
     "end_time": "2019-04-15T03:09:13.845933Z",
     "start_time": "2019-04-15T03:09:13.387488Z"
    }
   },
   "outputs": [],
   "source": [
    "import numpy as np\n",
    "import pandas as pd\n",
    "\n",
    "from tqdm import tqdm_notebook as tqdm"
   ]
  },
  {
   "cell_type": "code",
   "execution_count": 2,
   "metadata": {
    "ExecuteTime": {
     "end_time": "2019-04-15T03:09:13.852628Z",
     "start_time": "2019-04-15T03:09:13.847961Z"
    }
   },
   "outputs": [],
   "source": [
    "ENABLE_ASSERTIONS = True"
   ]
  },
  {
   "cell_type": "markdown",
   "metadata": {},
   "source": [
    "## <a name=\"k-means\"></a>K-Means Clustering\n",
    "\n"
   ]
  },
  {
   "cell_type": "markdown",
   "metadata": {},
   "source": [
    "K-Means is arguably one of the most popular (and simple) clustering algorithms. It creates `k` clusters in the following manner:\n",
    "\n",
    "1. Randomly initialize k data points as _centroids_\n",
    "1. Classify each data point as belonging to the nearest centroid\n",
    "1. Recalculate _centroid_ for each cluster as the mean of all vectors belonging to that cluster\n",
    "1. Repeat these steps for either `n` iterations, or until there is no change in centroids"
   ]
  },
  {
   "cell_type": "code",
   "execution_count": 3,
   "metadata": {
    "ExecuteTime": {
     "end_time": "2019-04-15T03:09:13.864494Z",
     "start_time": "2019-04-15T03:09:13.855164Z"
    }
   },
   "outputs": [],
   "source": [
    "def k_means(data, k, similarity_func, n_iter=10, show_progress=False):\n",
    "    centroids = initialize_centroids(data, k)\n",
    "    cluster_ids = classify(data, centroids)\n",
    "\n",
    "    for _ in tqdm(range(n_iter)):\n",
    "        centroids = calculate_centroids(data, cluster_ids)\n",
    "        cluster_ids = classify(data, centroids)\n",
    "        \n",
    "    return cluster_ids, centroids"
   ]
  },
  {
   "cell_type": "markdown",
   "metadata": {},
   "source": [
    "For initializing the random centroids, we sample k points from each column independently"
   ]
  },
  {
   "cell_type": "code",
   "execution_count": 4,
   "metadata": {
    "ExecuteTime": {
     "end_time": "2019-04-15T03:09:13.871096Z",
     "start_time": "2019-04-15T03:09:13.866636Z"
    }
   },
   "outputs": [],
   "source": [
    "def initialize_centroids(data, k, random_state=np.random):\n",
    "    return pd.DataFrame.from_dict({\n",
    "        col: random_state.choice(data[col].unique(), k).tolist() \n",
    "        for col in data.columns\n",
    "    })"
   ]
  },
  {
   "cell_type": "markdown",
   "metadata": {},
   "source": [
    "We calculate the Euclidean distance of the entire dataset from each centroid, and then assign cluster ids based on the nearest centroid"
   ]
  },
  {
   "cell_type": "code",
   "execution_count": 5,
   "metadata": {
    "ExecuteTime": {
     "end_time": "2019-04-15T03:09:13.888484Z",
     "start_time": "2019-04-15T03:09:13.873526Z"
    }
   },
   "outputs": [],
   "source": [
    "def classify(data, centroids):\n",
    "    centroid_distances = np.array([\n",
    "        np.sum(np.power(af - centroid, 2), axis=1) \n",
    "        for _, centroid in centroids.iterrows()\n",
    "    ])\n",
    "    \n",
    "    k, n = len(centroids), data.shape[0]\n",
    "\n",
    "    # centroid_distances[i, j] is the distance to the ith centroid for the jth data point\n",
    "    if ENABLE_ASSERTIONS: assert centroid_distances.shape == (k, n)\n",
    "\n",
    "    cluster_ids = centroid_distances.argmin(axis=0)\n",
    "    \n",
    "    # Each data point is assigned to a cluster\n",
    "    if ENABLE_ASSERTIONS: assert cluster_ids.shape == (n, )\n",
    "\n",
    "    return cluster_ids"
   ]
  },
  {
   "cell_type": "markdown",
   "metadata": {},
   "source": [
    "We determine new centroids by calculating the means of each cluster"
   ]
  },
  {
   "cell_type": "code",
   "execution_count": 6,
   "metadata": {
    "ExecuteTime": {
     "end_time": "2019-04-15T03:09:13.895607Z",
     "start_time": "2019-04-15T03:09:13.891128Z"
    }
   },
   "outputs": [],
   "source": [
    "def calculate_centroids(data, cluster_ids):\n",
    "    return data.groupby(cluster_ids).mean()"
   ]
  },
  {
   "cell_type": "markdown",
   "metadata": {},
   "source": [
    "TODO: Showcase sample image compression using K-Means"
   ]
  },
  {
   "cell_type": "markdown",
   "metadata": {},
   "source": [
    "# Summary"
   ]
  },
  {
   "cell_type": "markdown",
   "metadata": {},
   "source": [
    "sklearn has a fantastic summary image for different clustering algorithms:"
   ]
  },
  {
   "cell_type": "markdown",
   "metadata": {},
   "source": [
    "![Clustering Algorithms Comparison](https://scikit-learn.org/stable/_images/sphx_glr_plot_cluster_comparison_001.png)"
   ]
  }
 ],
 "metadata": {
  "kernelspec": {
   "display_name": "Python 3",
   "language": "python",
   "name": "python3"
  },
  "language_info": {
   "codemirror_mode": {
    "name": "ipython",
    "version": 3
   },
   "file_extension": ".py",
   "mimetype": "text/x-python",
   "name": "python",
   "nbconvert_exporter": "python",
   "pygments_lexer": "ipython3",
   "version": "3.6.8"
  }
 },
 "nbformat": 4,
 "nbformat_minor": 2
}
