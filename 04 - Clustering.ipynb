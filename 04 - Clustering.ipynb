{
 "cells": [
  {
   "cell_type": "markdown",
   "metadata": {},
   "source": [
    "# Session 04 - Clustering"
   ]
  },
  {
   "cell_type": "markdown",
   "metadata": {},
   "source": [
    "Clustering (or cluster analysis) is the **task of grouping a set of objects in such a way that objects in the same group (called a cluster) are more similar (in some sense) to each other than to those in other groups** (clusters).\n",
    "\n",
    "Clustering is an **unsupervised** learning technique."
   ]
  },
  {
   "cell_type": "markdown",
   "metadata": {},
   "source": [
    "There are dozens of clustering algorithms, but they can be broadly classified into categories based on how they create clusters:\n",
    "\n",
    "1. Connectivity-based clustering (hierarchical clustering)\n",
    "1. Centroid-based clustering\n",
    "1. Distribution-based clustering\n",
    "1. Density-based clustering"
   ]
  },
  {
   "cell_type": "markdown",
   "metadata": {},
   "source": [
    "## Table of Contents\n",
    "\n",
    "1. Algorithms\n",
    "    1. [K-Means Clustering](#K-Means-Clustering)\n",
    "    1. [DBSCAN](#DBSCAN) (**D**ensity-**B**ased **S**patial **C**lustering of **A**pplications with **N**oise)\n",
    "    1. [Agglomerative Heirarchical Clustering](#Agglomerative-Clustering)\n",
    "    1. [Mean-Shift Clustering](#Mean-Shift-Clustering)\n",
    "1. [Summary](#Summary)"
   ]
  },
  {
   "cell_type": "code",
   "execution_count": 1,
   "metadata": {
    "ExecuteTime": {
     "end_time": "2019-04-16T06:22:22.969956Z",
     "start_time": "2019-04-16T06:22:22.564476Z"
    }
   },
   "outputs": [],
   "source": [
    "import numpy as np\n",
    "import pandas as pd\n",
    "\n",
    "from tqdm import tqdm_notebook as tqdm\n",
    "\n",
    "import matplotlib.pyplot as plt\n",
    "from matplotlib.image import imread\n",
    "\n",
    "%matplotlib inline"
   ]
  },
  {
   "cell_type": "code",
   "execution_count": 2,
   "metadata": {
    "ExecuteTime": {
     "end_time": "2019-04-16T06:22:22.975372Z",
     "start_time": "2019-04-16T06:22:22.972193Z"
    }
   },
   "outputs": [],
   "source": [
    "ENABLE_ASSERTIONS = True"
   ]
  },
  {
   "cell_type": "markdown",
   "metadata": {},
   "source": [
    "## K-Means Clustering"
   ]
  },
  {
   "cell_type": "markdown",
   "metadata": {},
   "source": [
    "K-Means is arguably one of the most popular (and simple) clustering algorithms. It is a **centroid based** algorithm. It creates `k` clusters in the following manner:\n",
    "\n",
    "1. Randomly initialize k data points as _centroids_\n",
    "1. Classify each data point as belonging to the nearest centroid\n",
    "1. Recalculate _centroid_ for each cluster as the mean of all vectors belonging to that cluster\n",
    "1. Repeat these steps for either `n` iterations, or until there is no change in centroids"
   ]
  },
  {
   "cell_type": "code",
   "execution_count": 3,
   "metadata": {
    "ExecuteTime": {
     "end_time": "2019-04-16T06:22:22.987123Z",
     "start_time": "2019-04-16T06:22:22.979308Z"
    }
   },
   "outputs": [],
   "source": [
    "def k_means(data, k, n_iter=10, random_state=np.random, show_progress=False):\n",
    "    centroids = initialize_centroids(data, k, random_state)\n",
    "    cluster_ids = classify(data, centroids)\n",
    "\n",
    "    for _ in tqdm(range(n_iter)):\n",
    "        centroids = calculate_centroids(data, cluster_ids)\n",
    "        cluster_ids = classify(data, centroids)\n",
    "        \n",
    "    return cluster_ids, centroids"
   ]
  },
  {
   "cell_type": "markdown",
   "metadata": {},
   "source": [
    "For initializing the random centroids, we sample k points from the dataset"
   ]
  },
  {
   "cell_type": "code",
   "execution_count": 4,
   "metadata": {
    "ExecuteTime": {
     "end_time": "2019-04-16T06:22:22.992260Z",
     "start_time": "2019-04-16T06:22:22.989013Z"
    }
   },
   "outputs": [],
   "source": [
    "def initialize_centroids(data, k, random_state):\n",
    "    return data.sample(k, random_state=random_state)"
   ]
  },
  {
   "cell_type": "markdown",
   "metadata": {},
   "source": [
    "We calculate the Euclidean distance of the entire dataset from each centroid, and then assign cluster ids based on the nearest centroid"
   ]
  },
  {
   "cell_type": "code",
   "execution_count": 5,
   "metadata": {
    "ExecuteTime": {
     "end_time": "2019-04-16T06:22:23.009964Z",
     "start_time": "2019-04-16T06:22:22.995125Z"
    }
   },
   "outputs": [],
   "source": [
    "def classify(data, centroids):\n",
    "    centroid_distances = np.array([\n",
    "        np.sum(np.power(data - centroid, 2), axis=1) \n",
    "        for _, centroid in centroids.iterrows()\n",
    "    ])\n",
    "    \n",
    "    k, n = len(centroids), data.shape[0]\n",
    "\n",
    "    # centroid_distances[i, j] is the distance to the ith centroid for the jth data point\n",
    "    if ENABLE_ASSERTIONS: assert centroid_distances.shape == (k, n)\n",
    "\n",
    "    cluster_ids = centroid_distances.argmin(axis=0)\n",
    "    \n",
    "    # Each data point is assigned to a cluster\n",
    "    if ENABLE_ASSERTIONS: assert cluster_ids.shape == (n, )\n",
    "\n",
    "    return cluster_ids"
   ]
  },
  {
   "cell_type": "markdown",
   "metadata": {},
   "source": [
    "We determine new centroids by calculating the means of each cluster"
   ]
  },
  {
   "cell_type": "code",
   "execution_count": 6,
   "metadata": {
    "ExecuteTime": {
     "end_time": "2019-04-16T06:22:23.019412Z",
     "start_time": "2019-04-16T06:22:23.013688Z"
    }
   },
   "outputs": [],
   "source": [
    "def calculate_centroids(data, cluster_ids):\n",
    "    return data.groupby(cluster_ids).mean()"
   ]
  },
  {
   "cell_type": "markdown",
   "metadata": {},
   "source": [
    "One of the potential applications of k-means is **compressing images** by replacing the color map with representative cluster means. Thus an image with millions of pixel values can be compressed down to 8 or 16 color values, while retaining most of the structure of the original image."
   ]
  },
  {
   "cell_type": "code",
   "execution_count": 7,
   "metadata": {
    "ExecuteTime": {
     "end_time": "2019-04-16T06:22:23.043903Z",
     "start_time": "2019-04-16T06:22:23.021631Z"
    }
   },
   "outputs": [],
   "source": [
    "img = imread(\"data/sunset.jpg\")"
   ]
  },
  {
   "cell_type": "code",
   "execution_count": 8,
   "metadata": {
    "ExecuteTime": {
     "end_time": "2019-04-16T06:22:23.053351Z",
     "start_time": "2019-04-16T06:22:23.046590Z"
    }
   },
   "outputs": [
    {
     "data": {
      "text/plain": [
       "(539, 960, 3)"
      ]
     },
     "execution_count": 8,
     "metadata": {},
     "output_type": "execute_result"
    }
   ],
   "source": [
    "img.shape"
   ]
  },
  {
   "cell_type": "code",
   "execution_count": 9,
   "metadata": {
    "ExecuteTime": {
     "end_time": "2019-04-16T06:22:23.058975Z",
     "start_time": "2019-04-16T06:22:23.055211Z"
    }
   },
   "outputs": [],
   "source": [
    "def img2df(img):\n",
    "    r, g, b = [img[:, :, i].flatten() for i in range(3)]\n",
    "    return pd.DataFrame({'R': r, 'G': g, 'B': b})"
   ]
  },
  {
   "cell_type": "code",
   "execution_count": 10,
   "metadata": {
    "ExecuteTime": {
     "end_time": "2019-04-16T06:22:23.077494Z",
     "start_time": "2019-04-16T06:22:23.061821Z"
    }
   },
   "outputs": [
    {
     "data": {
      "text/html": [
       "<div>\n",
       "<style scoped>\n",
       "    .dataframe tbody tr th:only-of-type {\n",
       "        vertical-align: middle;\n",
       "    }\n",
       "\n",
       "    .dataframe tbody tr th {\n",
       "        vertical-align: top;\n",
       "    }\n",
       "\n",
       "    .dataframe thead th {\n",
       "        text-align: right;\n",
       "    }\n",
       "</style>\n",
       "<table border=\"1\" class=\"dataframe\">\n",
       "  <thead>\n",
       "    <tr style=\"text-align: right;\">\n",
       "      <th></th>\n",
       "      <th>B</th>\n",
       "      <th>G</th>\n",
       "      <th>R</th>\n",
       "    </tr>\n",
       "  </thead>\n",
       "  <tbody>\n",
       "    <tr>\n",
       "      <th>0</th>\n",
       "      <td>145</td>\n",
       "      <td>93</td>\n",
       "      <td>130</td>\n",
       "    </tr>\n",
       "    <tr>\n",
       "      <th>1</th>\n",
       "      <td>145</td>\n",
       "      <td>93</td>\n",
       "      <td>130</td>\n",
       "    </tr>\n",
       "    <tr>\n",
       "      <th>2</th>\n",
       "      <td>145</td>\n",
       "      <td>93</td>\n",
       "      <td>130</td>\n",
       "    </tr>\n",
       "    <tr>\n",
       "      <th>3</th>\n",
       "      <td>145</td>\n",
       "      <td>93</td>\n",
       "      <td>130</td>\n",
       "    </tr>\n",
       "    <tr>\n",
       "      <th>4</th>\n",
       "      <td>145</td>\n",
       "      <td>93</td>\n",
       "      <td>130</td>\n",
       "    </tr>\n",
       "  </tbody>\n",
       "</table>\n",
       "</div>"
      ],
      "text/plain": [
       "     B   G    R\n",
       "0  145  93  130\n",
       "1  145  93  130\n",
       "2  145  93  130\n",
       "3  145  93  130\n",
       "4  145  93  130"
      ]
     },
     "execution_count": 10,
     "metadata": {},
     "output_type": "execute_result"
    }
   ],
   "source": [
    "df = img2df(img)\n",
    "df.head()"
   ]
  },
  {
   "cell_type": "code",
   "execution_count": 11,
   "metadata": {
    "ExecuteTime": {
     "end_time": "2019-04-16T06:22:33.889266Z",
     "start_time": "2019-04-16T06:22:23.083930Z"
    }
   },
   "outputs": [
    {
     "data": {
      "application/vnd.jupyter.widget-view+json": {
       "model_id": "30e027e094b44183b0d8add4e0983a3c",
       "version_major": 2,
       "version_minor": 0
      },
      "text/html": [
       "<p>Failed to display Jupyter Widget of type <code>HBox</code>.</p>\n",
       "<p>\n",
       "  If you're reading this message in the Jupyter Notebook or JupyterLab Notebook, it may mean\n",
       "  that the widgets JavaScript is still loading. If this message persists, it\n",
       "  likely means that the widgets JavaScript library is either not installed or\n",
       "  not enabled. See the <a href=\"https://ipywidgets.readthedocs.io/en/stable/user_install.html\">Jupyter\n",
       "  Widgets Documentation</a> for setup instructions.\n",
       "</p>\n",
       "<p>\n",
       "  If you're reading this message in another frontend (for example, a static\n",
       "  rendering on GitHub or <a href=\"https://nbviewer.jupyter.org/\">NBViewer</a>),\n",
       "  it may mean that your frontend doesn't currently support widgets.\n",
       "</p>\n"
      ],
      "text/plain": [
       "HBox(children=(IntProgress(value=0, max=10), HTML(value='')))"
      ]
     },
     "metadata": {},
     "output_type": "display_data"
    },
    {
     "name": "stdout",
     "output_type": "stream",
     "text": [
      "\n"
     ]
    }
   ],
   "source": [
    "k = 8\n",
    "cluster_ids, centroids = k_means(df, k, random_state=42, show_progress=True)"
   ]
  },
  {
   "cell_type": "code",
   "execution_count": 12,
   "metadata": {
    "ExecuteTime": {
     "end_time": "2019-04-16T06:22:33.902268Z",
     "start_time": "2019-04-16T06:22:33.891662Z"
    }
   },
   "outputs": [
    {
     "data": {
      "text/html": [
       "<div>\n",
       "<style scoped>\n",
       "    .dataframe tbody tr th:only-of-type {\n",
       "        vertical-align: middle;\n",
       "    }\n",
       "\n",
       "    .dataframe tbody tr th {\n",
       "        vertical-align: top;\n",
       "    }\n",
       "\n",
       "    .dataframe thead th {\n",
       "        text-align: right;\n",
       "    }\n",
       "</style>\n",
       "<table border=\"1\" class=\"dataframe\">\n",
       "  <thead>\n",
       "    <tr style=\"text-align: right;\">\n",
       "      <th></th>\n",
       "      <th>B</th>\n",
       "      <th>G</th>\n",
       "      <th>R</th>\n",
       "    </tr>\n",
       "  </thead>\n",
       "  <tbody>\n",
       "    <tr>\n",
       "      <th>0</th>\n",
       "      <td>159</td>\n",
       "      <td>193</td>\n",
       "      <td>242</td>\n",
       "    </tr>\n",
       "    <tr>\n",
       "      <th>1</th>\n",
       "      <td>140</td>\n",
       "      <td>91</td>\n",
       "      <td>120</td>\n",
       "    </tr>\n",
       "    <tr>\n",
       "      <th>2</th>\n",
       "      <td>151</td>\n",
       "      <td>148</td>\n",
       "      <td>199</td>\n",
       "    </tr>\n",
       "    <tr>\n",
       "      <th>3</th>\n",
       "      <td>91</td>\n",
       "      <td>45</td>\n",
       "      <td>59</td>\n",
       "    </tr>\n",
       "    <tr>\n",
       "      <th>4</th>\n",
       "      <td>107</td>\n",
       "      <td>80</td>\n",
       "      <td>119</td>\n",
       "    </tr>\n",
       "    <tr>\n",
       "      <th>5</th>\n",
       "      <td>145</td>\n",
       "      <td>117</td>\n",
       "      <td>157</td>\n",
       "    </tr>\n",
       "    <tr>\n",
       "      <th>6</th>\n",
       "      <td>42</td>\n",
       "      <td>20</td>\n",
       "      <td>30</td>\n",
       "    </tr>\n",
       "    <tr>\n",
       "      <th>7</th>\n",
       "      <td>119</td>\n",
       "      <td>67</td>\n",
       "      <td>89</td>\n",
       "    </tr>\n",
       "  </tbody>\n",
       "</table>\n",
       "</div>"
      ],
      "text/plain": [
       "     B    G    R\n",
       "0  159  193  242\n",
       "1  140   91  120\n",
       "2  151  148  199\n",
       "3   91   45   59\n",
       "4  107   80  119\n",
       "5  145  117  157\n",
       "6   42   20   30\n",
       "7  119   67   89"
      ]
     },
     "execution_count": 12,
     "metadata": {},
     "output_type": "execute_result"
    }
   ],
   "source": [
    "centroids = centroids.astype(np.uint8)\n",
    "centroids"
   ]
  },
  {
   "cell_type": "code",
   "execution_count": 13,
   "metadata": {
    "ExecuteTime": {
     "end_time": "2019-04-16T06:22:33.918685Z",
     "start_time": "2019-04-16T06:22:33.904001Z"
    }
   },
   "outputs": [],
   "source": [
    "new_df = centroids.iloc[cluster_ids]\n",
    "new_df = new_df[['R', 'G', 'B']]\n",
    "new_img = new_df.values.reshape((img.shape))"
   ]
  },
  {
   "cell_type": "code",
   "execution_count": 14,
   "metadata": {
    "ExecuteTime": {
     "end_time": "2019-04-16T06:22:34.311337Z",
     "start_time": "2019-04-16T06:22:33.921078Z"
    }
   },
   "outputs": [
    {
     "data": {
      "text/plain": [
       "<matplotlib.image.AxesImage at 0x12307a7b8>"
      ]
     },
     "execution_count": 14,
     "metadata": {},
     "output_type": "execute_result"
    },
    {
     "data": {
      "image/png": "[encoded data removed]",
      "text/plain": [
       "<matplotlib.figure.Figure at 0x11b1e0f28>"
      ]
     },
     "metadata": {},
     "output_type": "display_data"
    }
   ],
   "source": [
    "plt.figure(figsize=(16, 8))\n",
    "plt.subplot(1, 2, 1)\n",
    "plt.imshow(img)\n",
    "plt.title(\"Original\")\n",
    "plt.subplot(1, 2, 2)\n",
    "plt.title(\"Pixels replaced by cluster means\")\n",
    "plt.imshow(new_img)"
   ]
  },
  {
   "cell_type": "markdown",
   "metadata": {},
   "source": [
    "**Notes**\n",
    "\n",
    " *  A variant of K-Means is K-Medoids, which chooses data points from the sample as cluster centers (as opposed to K-means where the centers may not belong to the original dataset). \n",
    " * A downside of this algorithm is that one needs to specify the number of clusters in advance."
   ]
  },
  {
   "cell_type": "markdown",
   "metadata": {},
   "source": [
    "## DBSCAN"
   ]
  },
  {
   "cell_type": "markdown",
   "metadata": {},
   "source": [
    "DBSCAN is one of the most cited clustering algorithms. It is a **density** based clustering algorithm. It has two main concepts:\n",
    "\n",
    "1. **Core point**: A data point that has at least `k` points within a radius $\\epsilon$.\n",
    "1. **Reachable**: A point is said to be _reachable_ from a core point if it is within its radius $\\epsilon$.  \n",
    "\n",
    "The algorithm works as follows:\n",
    "\n",
    "1. Start with cluster number `c = 1`\n",
    "1. Pick a random, unvisited point.\n",
    "1. If it is not a core point, mark it as an outlier, and retry.\n",
    "1. For all points reachable from this point, mark them as belonging to cluster `c`. Additionally, if they are also core points, repeat this step for each of them.\n",
    "1. Once this yields no new points, increment c, and start again from step 2.\n",
    "\n",
    "Note that points marked as outliers may later be reached from some other point."
   ]
  },
  {
   "cell_type": "code",
   "execution_count": 15,
   "metadata": {
    "ExecuteTime": {
     "end_time": "2019-04-16T06:22:34.315926Z",
     "start_time": "2019-04-16T06:22:34.313015Z"
    }
   },
   "outputs": [],
   "source": [
    "from collections import defaultdict, deque"
   ]
  },
  {
   "cell_type": "code",
   "execution_count": 16,
   "metadata": {
    "ExecuteTime": {
     "end_time": "2019-04-16T06:22:34.323895Z",
     "start_time": "2019-04-16T06:22:34.318184Z"
    }
   },
   "outputs": [],
   "source": [
    "import datetime as dt"
   ]
  },
  {
   "cell_type": "code",
   "execution_count": 17,
   "metadata": {
    "ExecuteTime": {
     "end_time": "2019-04-16T06:22:34.329832Z",
     "start_time": "2019-04-16T06:22:34.326472Z"
    }
   },
   "outputs": [],
   "source": [
    "def fakelog(s):\n",
    "    print(\"{}\\t{}\".format(dt.datetime.now().isoformat(), s))"
   ]
  },
  {
   "cell_type": "code",
   "execution_count": 18,
   "metadata": {
    "ExecuteTime": {
     "end_time": "2019-04-16T06:22:34.450755Z",
     "start_time": "2019-04-16T06:22:34.332100Z"
    }
   },
   "outputs": [],
   "source": [
    "UNPROCESSED = -1\n",
    "NOISE = 0\n",
    "\n",
    "def dbscan(data, eps, k, distance_func, random_state=np.random):\n",
    "    \"\"\"\n",
    "    Arguments\n",
    "    ---------\n",
    "    data: pd.DataFrame\n",
    "        A dataframe of dimensions n x m\n",
    "    \n",
    "    eps: float\n",
    "        The radius for core points\n",
    "    \n",
    "    k: int\n",
    "        Minimum number of points within radius to qualify as core point\n",
    "        \n",
    "    distance_func: x, y -> d\n",
    "        A callable that takes two data points and returns the distance between them\n",
    "    \"\"\"\n",
    "    data = data.copy()\n",
    "    data.index = range(len(data.index))\n",
    "\n",
    "    n = data.shape[0]\n",
    "\n",
    "    clusters = np.array([UNPROCESSED] * n)\n",
    "\n",
    "    unvisited = set(data.index)\n",
    "    \n",
    "    # Compute an n^2 matrix containing the distances between each pair of points\n",
    "    distances = initialize_distances(data, distance_func)\n",
    "    is_core_point = (distances <= eps).sum(axis=1) > k\n",
    "    \n",
    "    max_k = (distances <= eps).sum(axis=1).max()\n",
    "    min_eps, max_aps = distances.min(), distances.max()\n",
    "    \n",
    "    if is_core_point.sum() == 0:\n",
    "        raise ValueError(\n",
    "            \"Did not find any core points. \" +\n",
    "            \"Try a lower value for k (current={}, max={}) \".format(k, max_k) +\n",
    "            \"or a higher value for eps (current={}, min={}, max={}).\".format(eps, min_eps, max_aps)\n",
    "        )\n",
    "\n",
    "    print(\"Found {} core points\".format(is_core_point.sum()))\n",
    "    \n",
    "    c = 1\n",
    "\n",
    "    while True:\n",
    "        unvisited_arr = np.array(list(unvisited))\n",
    "        idx = random_state.choice(unvisited_arr, size=1)[0]\n",
    "        retries = 0\n",
    "\n",
    "        while not is_core_point[idx]:\n",
    "            clusters[idx] = NOISE\n",
    "\n",
    "            idx = random_state.choice(unvisited_arr, size=1)[0]\n",
    "\n",
    "            retries += 1\n",
    "\n",
    "            # Check if all remaining have been marked as noise\n",
    "            if all(clusters[np.array(list(unvisited))] == NOISE):\n",
    "                return clusters\n",
    "\n",
    "        fakelog(\"Finding all points (directly/indirectly) for cluster {}\".format(c))\n",
    "        reachables = bfs(idx, unvisited, distances, is_core_point, eps)\n",
    "        fakelog(\"Found {} points belonging to cluster {}\".format(len(reachables), c))\n",
    "        \n",
    "        # Remove them from the unvisited set, so that they are not claimed by another cluster\n",
    "        unvisited = unvisited - reachables\n",
    "\n",
    "        # Mark them as belonging to cluster c\n",
    "        clusters[list(reachables)] = c\n",
    "        \n",
    "        # Increment cluster ID\n",
    "        c += 1\n",
    "\n",
    "        fakelog(\"# Unvisited points: {}\".format(len(unvisited)))\n",
    "        \n",
    "        # If all the remaining points are NOISE, or we have no more points left, we can return\n",
    "        if len(unvisited) == 0 or all(clusters[np.array(list(unvisited))] == NOISE):\n",
    "            return clusters"
   ]
  },
  {
   "cell_type": "code",
   "execution_count": 19,
   "metadata": {
    "ExecuteTime": {
     "end_time": "2019-04-16T06:22:34.467682Z",
     "start_time": "2019-04-16T06:22:34.454571Z"
    }
   },
   "outputs": [],
   "source": [
    "def l1_norm(x):\n",
    "    return np.linalg.norm(x, 1, axis=1)\n",
    "\n",
    "def l2_norm(x):\n",
    "    return np.linalg.norm(x, 2, axis=1)\n",
    "\n",
    "DISTANCE_METRIC_LOOKUP = {\n",
    "    'euclidean': l2_norm,\n",
    "    'manhattan': l1_norm\n",
    "}\n",
    "\n",
    "def initialize_distances(data, distance_func):\n",
    "    n = data.shape[0]\n",
    "\n",
    "    distances = np.zeros(shape=(n, n))\n",
    "    func = DISTANCE_METRIC_LOOKUP[distance_func]\n",
    "    for i in range(n):\n",
    "        distances[i] = func(data.iloc[i] - data)\n",
    "            \n",
    "    return np.array(distances)"
   ]
  },
  {
   "cell_type": "code",
   "execution_count": 20,
   "metadata": {
    "ExecuteTime": {
     "end_time": "2019-04-16T06:22:34.482848Z",
     "start_time": "2019-04-16T06:22:34.470041Z"
    }
   },
   "outputs": [],
   "source": [
    "def bfs(i, unvisited, distances, is_core_point, eps):\n",
    "    q = deque()\n",
    "    visited = set()\n",
    "\n",
    "    q.append(i)\n",
    "\n",
    "    while q:\n",
    "        p = q.popleft()\n",
    "        visited.add(p)\n",
    "\n",
    "        if not is_core_point[p]:\n",
    "            continue\n",
    "\n",
    "        reachables = set(np.asarray(distances[p] <= eps).nonzero()[0])\n",
    "        q.extend((reachables & unvisited) - visited)\n",
    "\n",
    "    return visited                "
   ]
  },
  {
   "cell_type": "code",
   "execution_count": 21,
   "metadata": {
    "ExecuteTime": {
     "end_time": "2019-04-16T06:22:35.443880Z",
     "start_time": "2019-04-16T06:22:34.486322Z"
    }
   },
   "outputs": [
    {
     "data": {
      "text/html": [
       "<div>\n",
       "<style scoped>\n",
       "    .dataframe tbody tr th:only-of-type {\n",
       "        vertical-align: middle;\n",
       "    }\n",
       "\n",
       "    .dataframe tbody tr th {\n",
       "        vertical-align: top;\n",
       "    }\n",
       "\n",
       "    .dataframe thead th {\n",
       "        text-align: right;\n",
       "    }\n",
       "</style>\n",
       "<table border=\"1\" class=\"dataframe\">\n",
       "  <thead>\n",
       "    <tr style=\"text-align: right;\">\n",
       "      <th></th>\n",
       "      <th>avg_rating</th>\n",
       "      <th>num_ratings</th>\n",
       "      <th>num_reviews</th>\n",
       "    </tr>\n",
       "  </thead>\n",
       "  <tbody>\n",
       "    <tr>\n",
       "      <th>0</th>\n",
       "      <td>0.796</td>\n",
       "      <td>0.005546</td>\n",
       "      <td>0.006685</td>\n",
       "    </tr>\n",
       "    <tr>\n",
       "      <th>1</th>\n",
       "      <td>0.828</td>\n",
       "      <td>0.000175</td>\n",
       "      <td>0.000733</td>\n",
       "    </tr>\n",
       "    <tr>\n",
       "      <th>2</th>\n",
       "      <td>0.848</td>\n",
       "      <td>0.001941</td>\n",
       "      <td>0.000702</td>\n",
       "    </tr>\n",
       "  </tbody>\n",
       "</table>\n",
       "</div>"
      ],
      "text/plain": [
       "   avg_rating  num_ratings  num_reviews\n",
       "0       0.796     0.005546     0.006685\n",
       "1       0.828     0.000175     0.000733\n",
       "2       0.848     0.001941     0.000702"
      ]
     },
     "execution_count": 21,
     "metadata": {},
     "output_type": "execute_result"
    }
   ],
   "source": [
    "authors = pd.read_json(\"authors.jl\", lines=True)\n",
    "\n",
    "features = [\"avg_rating\", \"num_ratings\", \"num_reviews\"]\n",
    "\n",
    "authors = authors.dropna(subset=features)\n",
    "authors = authors.sample(2000, random_state=42)\n",
    "\n",
    "authors.index = range(len(authors.index))\n",
    "\n",
    "af = authors[features]\n",
    "\n",
    "# Normalize columns\n",
    "af = (af - af.min())/(af.max() - af.min())\n",
    "af.head(3)"
   ]
  },
  {
   "cell_type": "code",
   "execution_count": 22,
   "metadata": {
    "ExecuteTime": {
     "end_time": "2019-04-16T06:22:43.796740Z",
     "start_time": "2019-04-16T06:22:35.447011Z"
    }
   },
   "outputs": [
    {
     "name": "stdout",
     "output_type": "stream",
     "text": [
      "Found 373 core points\n",
      "2019-04-15T23:22:36.362870\tFinding all points (directly/indirectly) for cluster 1\n",
      "2019-04-15T23:22:42.969860\tFound 340 points belonging to cluster 1\n",
      "2019-04-15T23:22:42.970181\t# Unvisited points: 1660\n",
      "2019-04-15T23:22:42.971069\tFinding all points (directly/indirectly) for cluster 2\n",
      "2019-04-15T23:22:43.041052\tFound 376 points belonging to cluster 2\n",
      "2019-04-15T23:22:43.041330\t# Unvisited points: 1284\n",
      "2019-04-15T23:22:43.226264\tFinding all points (directly/indirectly) for cluster 3\n",
      "2019-04-15T23:22:43.226599\tFound 252 points belonging to cluster 3\n",
      "2019-04-15T23:22:43.226758\t# Unvisited points: 1032\n"
     ]
    }
   ],
   "source": [
    "clusters = dbscan(af, eps=0.02, k=320, distance_func='euclidean')"
   ]
  },
  {
   "cell_type": "code",
   "execution_count": 23,
   "metadata": {
    "ExecuteTime": {
     "end_time": "2019-04-16T06:22:43.810956Z",
     "start_time": "2019-04-16T06:22:43.799234Z"
    }
   },
   "outputs": [
    {
     "data": {
      "text/html": [
       "<div>\n",
       "<style scoped>\n",
       "    .dataframe tbody tr th:only-of-type {\n",
       "        vertical-align: middle;\n",
       "    }\n",
       "\n",
       "    .dataframe tbody tr th {\n",
       "        vertical-align: top;\n",
       "    }\n",
       "\n",
       "    .dataframe thead th {\n",
       "        text-align: right;\n",
       "    }\n",
       "</style>\n",
       "<table border=\"1\" class=\"dataframe\">\n",
       "  <thead>\n",
       "    <tr style=\"text-align: right;\">\n",
       "      <th></th>\n",
       "      <th>avg_rating</th>\n",
       "      <th>num_ratings</th>\n",
       "      <th>num_reviews</th>\n",
       "    </tr>\n",
       "  </thead>\n",
       "  <tbody>\n",
       "    <tr>\n",
       "      <th>0</th>\n",
       "      <td>0.771483</td>\n",
       "      <td>0.005735</td>\n",
       "      <td>9.642095e-03</td>\n",
       "    </tr>\n",
       "    <tr>\n",
       "      <th>1</th>\n",
       "      <td>0.000000</td>\n",
       "      <td>0.000000</td>\n",
       "      <td>1.795535e-07</td>\n",
       "    </tr>\n",
       "    <tr>\n",
       "      <th>2</th>\n",
       "      <td>0.786729</td>\n",
       "      <td>0.000696</td>\n",
       "      <td>1.792154e-03</td>\n",
       "    </tr>\n",
       "    <tr>\n",
       "      <th>3</th>\n",
       "      <td>0.747532</td>\n",
       "      <td>0.000824</td>\n",
       "      <td>2.284705e-03</td>\n",
       "    </tr>\n",
       "  </tbody>\n",
       "</table>\n",
       "</div>"
      ],
      "text/plain": [
       "   avg_rating  num_ratings   num_reviews\n",
       "0    0.771483     0.005735  9.642095e-03\n",
       "1    0.000000     0.000000  1.795535e-07\n",
       "2    0.786729     0.000696  1.792154e-03\n",
       "3    0.747532     0.000824  2.284705e-03"
      ]
     },
     "execution_count": 23,
     "metadata": {},
     "output_type": "execute_result"
    }
   ],
   "source": [
    "centroids = af.groupby(clusters).mean()\n",
    "centroids.head(5)"
   ]
  },
  {
   "cell_type": "code",
   "execution_count": 24,
   "metadata": {
    "ExecuteTime": {
     "end_time": "2019-04-16T06:22:43.820623Z",
     "start_time": "2019-04-16T06:22:43.815517Z"
    }
   },
   "outputs": [],
   "source": [
    "groups = authors.groupby(clusters).groups"
   ]
  },
  {
   "cell_type": "markdown",
   "metadata": {},
   "source": [
    "The group that was marked as outliers:"
   ]
  },
  {
   "cell_type": "code",
   "execution_count": 25,
   "metadata": {
    "ExecuteTime": {
     "end_time": "2019-04-16T06:22:43.836332Z",
     "start_time": "2019-04-16T06:22:43.822743Z"
    }
   },
   "outputs": [
    {
     "data": {
      "text/html": [
       "<div>\n",
       "<style scoped>\n",
       "    .dataframe tbody tr th:only-of-type {\n",
       "        vertical-align: middle;\n",
       "    }\n",
       "\n",
       "    .dataframe tbody tr th {\n",
       "        vertical-align: top;\n",
       "    }\n",
       "\n",
       "    .dataframe thead th {\n",
       "        text-align: right;\n",
       "    }\n",
       "</style>\n",
       "<table border=\"1\" class=\"dataframe\">\n",
       "  <thead>\n",
       "    <tr style=\"text-align: right;\">\n",
       "      <th></th>\n",
       "      <th>avg_rating</th>\n",
       "      <th>num_ratings</th>\n",
       "      <th>num_reviews</th>\n",
       "      <th>name</th>\n",
       "    </tr>\n",
       "  </thead>\n",
       "  <tbody>\n",
       "    <tr>\n",
       "      <th>1</th>\n",
       "      <td>4.14</td>\n",
       "      <td>115.0</td>\n",
       "      <td>24.0</td>\n",
       "      <td>Luna Merbruja</td>\n",
       "    </tr>\n",
       "    <tr>\n",
       "      <th>2</th>\n",
       "      <td>4.24</td>\n",
       "      <td>1277.0</td>\n",
       "      <td>23.0</td>\n",
       "      <td>Jule Styne</td>\n",
       "    </tr>\n",
       "    <tr>\n",
       "      <th>3</th>\n",
       "      <td>5.00</td>\n",
       "      <td>1.0</td>\n",
       "      <td>0.0</td>\n",
       "      <td>Gerard Di Trolio</td>\n",
       "    </tr>\n",
       "    <tr>\n",
       "      <th>4</th>\n",
       "      <td>3.17</td>\n",
       "      <td>6.0</td>\n",
       "      <td>0.0</td>\n",
       "      <td>Jacek Wijaczka</td>\n",
       "    </tr>\n",
       "  </tbody>\n",
       "</table>\n",
       "</div>"
      ],
      "text/plain": [
       "   avg_rating  num_ratings  num_reviews              name\n",
       "1        4.14        115.0         24.0     Luna Merbruja\n",
       "2        4.24       1277.0         23.0        Jule Styne\n",
       "3        5.00          1.0          0.0  Gerard Di Trolio\n",
       "4        3.17          6.0          0.0    Jacek Wijaczka"
      ]
     },
     "execution_count": 25,
     "metadata": {},
     "output_type": "execute_result"
    }
   ],
   "source": [
    "authors.iloc[groups[0].tolist()][features + [\"name\"]].head(4)"
   ]
  },
  {
   "cell_type": "code",
   "execution_count": 26,
   "metadata": {
    "ExecuteTime": {
     "end_time": "2019-04-16T06:22:43.854316Z",
     "start_time": "2019-04-16T06:22:43.838387Z"
    }
   },
   "outputs": [
    {
     "data": {
      "text/html": [
       "<div>\n",
       "<style scoped>\n",
       "    .dataframe tbody tr th:only-of-type {\n",
       "        vertical-align: middle;\n",
       "    }\n",
       "\n",
       "    .dataframe tbody tr th {\n",
       "        vertical-align: top;\n",
       "    }\n",
       "\n",
       "    .dataframe thead th {\n",
       "        text-align: right;\n",
       "    }\n",
       "</style>\n",
       "<table border=\"1\" class=\"dataframe\">\n",
       "  <thead>\n",
       "    <tr style=\"text-align: right;\">\n",
       "      <th></th>\n",
       "      <th>avg_rating</th>\n",
       "      <th>num_ratings</th>\n",
       "      <th>num_reviews</th>\n",
       "      <th>name</th>\n",
       "    </tr>\n",
       "  </thead>\n",
       "  <tbody>\n",
       "    <tr>\n",
       "      <th>8</th>\n",
       "      <td>0.0</td>\n",
       "      <td>0.0</td>\n",
       "      <td>0.0</td>\n",
       "      <td>Bohdan Bilan</td>\n",
       "    </tr>\n",
       "    <tr>\n",
       "      <th>11</th>\n",
       "      <td>0.0</td>\n",
       "      <td>0.0</td>\n",
       "      <td>0.0</td>\n",
       "      <td>Kathryn Pitkin</td>\n",
       "    </tr>\n",
       "    <tr>\n",
       "      <th>29</th>\n",
       "      <td>0.0</td>\n",
       "      <td>0.0</td>\n",
       "      <td>0.0</td>\n",
       "      <td>Stephanie A Jones</td>\n",
       "    </tr>\n",
       "    <tr>\n",
       "      <th>33</th>\n",
       "      <td>0.0</td>\n",
       "      <td>0.0</td>\n",
       "      <td>0.0</td>\n",
       "      <td>Jaroslav Dvořák</td>\n",
       "    </tr>\n",
       "    <tr>\n",
       "      <th>36</th>\n",
       "      <td>0.0</td>\n",
       "      <td>0.0</td>\n",
       "      <td>0.0</td>\n",
       "      <td>Birger P Priddat</td>\n",
       "    </tr>\n",
       "  </tbody>\n",
       "</table>\n",
       "</div>"
      ],
      "text/plain": [
       "    avg_rating  num_ratings  num_reviews               name\n",
       "8          0.0          0.0          0.0       Bohdan Bilan\n",
       "11         0.0          0.0          0.0     Kathryn Pitkin\n",
       "29         0.0          0.0          0.0  Stephanie A Jones\n",
       "33         0.0          0.0          0.0    Jaroslav Dvořák\n",
       "36         0.0          0.0          0.0   Birger P Priddat"
      ]
     },
     "execution_count": 26,
     "metadata": {},
     "output_type": "execute_result"
    }
   ],
   "source": [
    "authors.iloc[groups[1].tolist()][features + [\"name\"]].head(5)"
   ]
  },
  {
   "cell_type": "code",
   "execution_count": 27,
   "metadata": {
    "ExecuteTime": {
     "end_time": "2019-04-16T06:22:43.870588Z",
     "start_time": "2019-04-16T06:22:43.856462Z"
    }
   },
   "outputs": [
    {
     "data": {
      "text/html": [
       "<div>\n",
       "<style scoped>\n",
       "    .dataframe tbody tr th:only-of-type {\n",
       "        vertical-align: middle;\n",
       "    }\n",
       "\n",
       "    .dataframe tbody tr th {\n",
       "        vertical-align: top;\n",
       "    }\n",
       "\n",
       "    .dataframe thead th {\n",
       "        text-align: right;\n",
       "    }\n",
       "</style>\n",
       "<table border=\"1\" class=\"dataframe\">\n",
       "  <thead>\n",
       "    <tr style=\"text-align: right;\">\n",
       "      <th></th>\n",
       "      <th>avg_rating</th>\n",
       "      <th>num_ratings</th>\n",
       "      <th>num_reviews</th>\n",
       "      <th>name</th>\n",
       "    </tr>\n",
       "  </thead>\n",
       "  <tbody>\n",
       "    <tr>\n",
       "      <th>0</th>\n",
       "      <td>3.98</td>\n",
       "      <td>3649.0</td>\n",
       "      <td>219.0</td>\n",
       "      <td>Mark Divine</td>\n",
       "    </tr>\n",
       "    <tr>\n",
       "      <th>12</th>\n",
       "      <td>3.97</td>\n",
       "      <td>537.0</td>\n",
       "      <td>100.0</td>\n",
       "      <td>Amy MacDonald</td>\n",
       "    </tr>\n",
       "    <tr>\n",
       "      <th>16</th>\n",
       "      <td>3.87</td>\n",
       "      <td>3079.0</td>\n",
       "      <td>9.0</td>\n",
       "      <td>Aaron Tillman</td>\n",
       "    </tr>\n",
       "    <tr>\n",
       "      <th>17</th>\n",
       "      <td>4.00</td>\n",
       "      <td>1.0</td>\n",
       "      <td>0.0</td>\n",
       "      <td>楊斐萍</td>\n",
       "    </tr>\n",
       "    <tr>\n",
       "      <th>18</th>\n",
       "      <td>3.83</td>\n",
       "      <td>12.0</td>\n",
       "      <td>2.0</td>\n",
       "      <td>David M. Finkelstein</td>\n",
       "    </tr>\n",
       "  </tbody>\n",
       "</table>\n",
       "</div>"
      ],
      "text/plain": [
       "    avg_rating  num_ratings  num_reviews                  name\n",
       "0         3.98       3649.0        219.0           Mark Divine\n",
       "12        3.97        537.0        100.0         Amy MacDonald\n",
       "16        3.87       3079.0          9.0         Aaron Tillman\n",
       "17        4.00          1.0          0.0                   楊斐萍\n",
       "18        3.83         12.0          2.0  David M. Finkelstein"
      ]
     },
     "execution_count": 27,
     "metadata": {},
     "output_type": "execute_result"
    }
   ],
   "source": [
    "authors.iloc[groups[2].tolist()][features + [\"name\"]].head(5)"
   ]
  },
  {
   "cell_type": "markdown",
   "metadata": {},
   "source": [
    "We note that the algorithm successfully detects a cluster with 0 `avg_rating`, `num_reviews` and `num_ratings`."
   ]
  },
  {
   "cell_type": "markdown",
   "metadata": {},
   "source": [
    "**Notes:**\n",
    "\n",
    " * The values for $\\epsilon$ (radius) and `k` (minimum number of points) serve as parameters to the algorithm\n",
    " * For high-dimensional data, determining $\\epsilon$ can be challenging\n",
    " * A salient feature is that it detects outliers instead of forcefully assigning them to a cluster"
   ]
  },
  {
   "cell_type": "markdown",
   "metadata": {},
   "source": [
    "## Agglomerative Clustering"
   ]
  },
  {
   "cell_type": "markdown",
   "metadata": {},
   "source": [
    "## Mean-Shift Clustering"
   ]
  },
  {
   "cell_type": "markdown",
   "metadata": {},
   "source": [
    "# Summary"
   ]
  },
  {
   "cell_type": "markdown",
   "metadata": {},
   "source": [
    "sklearn has a fantastic [summary image](https://scikit-learn.org/stable/_images/sphx_glr_plot_cluster_comparison_001.png) for different clustering algorithms on various toy datasets:"
   ]
  },
  {
   "cell_type": "markdown",
   "metadata": {},
   "source": [
    "## ![Clustering Algorithms Comparison](https://scikit-learn.org/stable/_images/sphx_glr_plot_cluster_comparison_001.png)"
   ]
  }
 ],
 "metadata": {
  "kernelspec": {
   "display_name": "Python 3",
   "language": "python",
   "name": "python3"
  },
  "language_info": {
   "codemirror_mode": {
    "name": "ipython",
    "version": 3
   },
   "file_extension": ".py",
   "mimetype": "text/x-python",
   "name": "python",
   "nbconvert_exporter": "python",
   "pygments_lexer": "ipython3",
   "version": "3.6.8"
  }
 },
 "nbformat": 4,
 "nbformat_minor": 2
}
