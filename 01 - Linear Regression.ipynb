{
 "cells": [
  {
   "cell_type": "markdown",
   "metadata": {},
   "source": [
    "## Session 01: Linear Regression"
   ]
  },
  {
   "cell_type": "code",
   "execution_count": 1,
   "metadata": {},
   "outputs": [],
   "source": [
    "import numpy as np\n",
    "import pandas as pd"
   ]
  },
  {
   "cell_type": "code",
   "execution_count": 2,
   "metadata": {},
   "outputs": [],
   "source": [
    "np.random.seed(42)"
   ]
  },
  {
   "cell_type": "code",
   "execution_count": 3,
   "metadata": {},
   "outputs": [],
   "source": [
    "%matplotlib inline\n",
    "import matplotlib.pyplot as plt"
   ]
  },
  {
   "cell_type": "markdown",
   "metadata": {},
   "source": [
    "We'll use the wine quality data for this notebook"
   ]
  },
  {
   "cell_type": "markdown",
   "metadata": {},
   "source": [
    "### General Model"
   ]
  },
  {
   "cell_type": "markdown",
   "metadata": {},
   "source": [
    "$\\hat{y} = \\hat{f}(X) + \\epsilon$"
   ]
  },
  {
   "cell_type": "markdown",
   "metadata": {},
   "source": [
    "$\\epsilon_i = y_i - \\hat{y}_i$ is the ith residual, the difference between the ith response value and our predicted value"
   ]
  },
  {
   "cell_type": "markdown",
   "metadata": {},
   "source": [
    "We defined the _residual sum of squares_ RSS as:\n",
    "\n",
    "$RSS = \\sum_{i} e_{i}^2$"
   ]
  },
  {
   "cell_type": "markdown",
   "metadata": {},
   "source": [
    "The least squares approach chooses parameters to minimize the RSS."
   ]
  },
  {
   "cell_type": "markdown",
   "metadata": {},
   "source": [
    "The accuracy of $\\hat{y}$ depends on two quantities, which we call as reducible error and irreducible error.\n",
    "\n",
    "The inability of $\\hat{f}$ to be a good estimate of $f$ is called reducible error, since it is possible to improve this by using the most appropriate statistical learning techniqie.\n",
    "\n",
    "However, even if $\\hat{f}$ is a perfect estimate, Y is also a function of $\\epsilon$, which cannot be predicted using X. This is called irreducible error, because no matter how well we estimate $f$, we cannot reduct this error."
   ]
  },
  {
   "cell_type": "markdown",
   "metadata": {},
   "source": [
    "This is more popularly seen in the following form:\n",
    "\n",
    "$$E(Y - \\hat{Y})^2 = E[f(X) + \\epsilon - \\hat{f}(X)]^2  \\\\\n",
    "  = [f(X) - \\hat{f}(X)]^2 + Var(\\epsilon)\n",
    "$$"
   ]
  },
  {
   "cell_type": "markdown",
   "metadata": {},
   "source": [
    "### Univariate Linear Regression"
   ]
  },
  {
   "cell_type": "markdown",
   "metadata": {},
   "source": [
    "This is basically linear regression with 1 predictor variable."
   ]
  },
  {
   "cell_type": "markdown",
   "metadata": {},
   "source": [
    "Model:   \n",
    "$y = \\theta_0 + \\theta_1 x$"
   ]
  },
  {
   "cell_type": "markdown",
   "metadata": {},
   "source": [
    "There are two ways to fit a linear regression model, depending on the number of features. For a smaller number of features (say <10k), you can use the Normal equation form to solve for $\\theta$ directly.\n",
    "\n",
    "For more than 10k features, you probably want to use gradient descent."
   ]
  },
  {
   "cell_type": "markdown",
   "metadata": {},
   "source": [
    "Assuming that we write the model in matrix form as:\n",
    "\n",
    "$y = \\Theta^T X$,\n",
    "\n",
    "where $\\Theta, X \\in \\mathbb{R}^{n}$,\n",
    "\n",
    "The Normal equation is given by:\n",
    "\n",
    "$\\Theta = (X^T X)^{-1} X^T y$"
   ]
  },
  {
   "cell_type": "markdown",
   "metadata": {},
   "source": [
    "It can be shown that by similfying the above Normal equation, for the single predictor case, we get:\n",
    "    \n",
    "$$\\theta_1 = \\frac{\\sum_{i = 1}^{n} (x_i - \\overline{x}) (y_i - \\overline{y})}{\\sum_{i = 1}^{n} (x_i - \\overline{x})^2}$$\n",
    "\n",
    "$$\\theta_0 = \\overline{y} - \\theta_1 \\overline{x}$$"
   ]
  },
  {
   "cell_type": "code",
   "execution_count": 4,
   "metadata": {},
   "outputs": [],
   "source": [
    "cars = np.genfromtxt('cars.csv', delimiter=',', names=True)"
   ]
  },
  {
   "cell_type": "code",
   "execution_count": 5,
   "metadata": {},
   "outputs": [],
   "source": [
    "x0 = np.ones(len(cars)) # Models the intercept\n",
    "x = cars['speed']"
   ]
  },
  {
   "cell_type": "code",
   "execution_count": 6,
   "metadata": {},
   "outputs": [],
   "source": [
    "X = np.array([x0, x]).T\n",
    "y = cars['dist']"
   ]
  },
  {
   "cell_type": "code",
   "execution_count": 7,
   "metadata": {},
   "outputs": [],
   "source": [
    "theta = np.matmul(np.matmul(np.linalg.inv(np.matmul(X.T, X)), X.T), y)"
   ]
  },
  {
   "cell_type": "code",
   "execution_count": 8,
   "metadata": {},
   "outputs": [
    {
     "data": {
      "text/plain": [
       "array([-17.57909489,   3.93240876])"
      ]
     },
     "execution_count": 8,
     "metadata": {},
     "output_type": "execute_result"
    }
   ],
   "source": [
    "theta"
   ]
  },
  {
   "cell_type": "code",
   "execution_count": 9,
   "metadata": {},
   "outputs": [
    {
     "data": {
      "image/png": "[encoded data removed]",
      "text/plain": [
       "<matplotlib.figure.Figure at 0x111bcfe48>"
      ]
     },
     "metadata": {},
     "output_type": "display_data"
    }
   ],
   "source": [
    "fig, ax = plt.subplots()\n",
    "ax.scatter(x, y)\n",
    "x1, x2 = ax.get_xlim()\n",
    "y1, y2 = np.dot(theta, [1, x1]), np.dot(theta, [1, x2])\n",
    "ax.plot([x1, x2], [y1, y2], linewidth=1, c='red')\n",
    "ax.grid()"
   ]
  },
  {
   "cell_type": "code",
   "execution_count": 10,
   "metadata": {},
   "outputs": [
    {
     "data": {
      "text/plain": [
       "(-17.579094890510959, 3.9324087591240882)"
      ]
     },
     "execution_count": 10,
     "metadata": {},
     "output_type": "execute_result"
    }
   ],
   "source": [
    "# Sanity check\n",
    "theta_1 = np.dot((x - np.mean(x)), (y - np.mean(y))) / np.sum((x - np.mean(x))**2)\n",
    "theta_0 = np.mean(y) - theta_1 * np.mean(x)\n",
    "\n",
    "theta_0, theta_1"
   ]
  },
  {
   "cell_type": "markdown",
   "metadata": {},
   "source": [
    "### Multivariate Linear Regression"
   ]
  },
  {
   "cell_type": "markdown",
   "metadata": {},
   "source": [
    "This is linear regression with multiple predictor variables.\n",
    "\n",
    "Model:\n",
    "    \n",
    "$y = \\theta_0 + \\theta_1 x_1 + \\theta_2 x_2 + \\theta_3 x_3 \\ldots + \\theta_n x_n$"
   ]
  },
  {
   "cell_type": "code",
   "execution_count": 11,
   "metadata": {},
   "outputs": [],
   "source": [
    "wine = pd.read_csv('winequality-red.csv', sep=';')"
   ]
  },
  {
   "cell_type": "code",
   "execution_count": 12,
   "metadata": {},
   "outputs": [
    {
     "data": {
      "text/plain": [
       "(1599, 12)"
      ]
     },
     "execution_count": 12,
     "metadata": {},
     "output_type": "execute_result"
    }
   ],
   "source": [
    "wine.shape"
   ]
  },
  {
   "cell_type": "code",
   "execution_count": 13,
   "metadata": {},
   "outputs": [],
   "source": [
    "wine_train, wine_test = wine[:1200], wine[1200:]"
   ]
  },
  {
   "cell_type": "code",
   "execution_count": 14,
   "metadata": {},
   "outputs": [],
   "source": [
    "x0 = np.ones((len(wine_train), 1)) # models the intercept\n",
    "X = wine_train.drop('quality', axis=1).values"
   ]
  },
  {
   "cell_type": "code",
   "execution_count": 15,
   "metadata": {},
   "outputs": [],
   "source": [
    "X = np.concatenate([x0, X], axis=1)"
   ]
  },
  {
   "cell_type": "code",
   "execution_count": 16,
   "metadata": {},
   "outputs": [],
   "source": [
    "y = wine_train['quality'].values"
   ]
  },
  {
   "cell_type": "code",
   "execution_count": 17,
   "metadata": {},
   "outputs": [],
   "source": [
    "theta = np.matmul(np.matmul(np.linalg.inv(np.matmul(X.T, X)), X.T), y)"
   ]
  },
  {
   "cell_type": "code",
   "execution_count": 18,
   "metadata": {},
   "outputs": [
    {
     "data": {
      "text/plain": [
       "array([  4.26148353e+01,   4.68226978e-02,  -1.06858847e+00,\n",
       "        -2.69078072e-01,   3.46373237e-02,  -1.60559854e+00,\n",
       "         3.48715209e-03,  -3.77404055e-03,  -3.91307833e+01,\n",
       "        -2.53835069e-01,   7.71874679e-01,   2.69457226e-01])"
      ]
     },
     "execution_count": 18,
     "metadata": {},
     "output_type": "execute_result"
    }
   ],
   "source": [
    "theta"
   ]
  },
  {
   "cell_type": "code",
   "execution_count": 19,
   "metadata": {},
   "outputs": [],
   "source": [
    "x0 = np.ones((len(wine_test), 1)) # models the intercept\n",
    "x_test = wine_test.drop('quality', axis=1).values\n",
    "X = np.concatenate([x0, x_test], axis=1)"
   ]
  },
  {
   "cell_type": "code",
   "execution_count": 20,
   "metadata": {},
   "outputs": [],
   "source": [
    "expected = wine_test['quality']\n",
    "predictions = np.matmul(X, theta)"
   ]
  },
  {
   "cell_type": "code",
   "execution_count": 21,
   "metadata": {},
   "outputs": [
    {
     "data": {
      "text/html": [
       "<div>\n",
       "<style scoped>\n",
       "    .dataframe tbody tr th:only-of-type {\n",
       "        vertical-align: middle;\n",
       "    }\n",
       "\n",
       "    .dataframe tbody tr th {\n",
       "        vertical-align: top;\n",
       "    }\n",
       "\n",
       "    .dataframe thead th {\n",
       "        text-align: right;\n",
       "    }\n",
       "</style>\n",
       "<table border=\"1\" class=\"dataframe\">\n",
       "  <thead>\n",
       "    <tr style=\"text-align: right;\">\n",
       "      <th></th>\n",
       "      <th>expected</th>\n",
       "      <th>predictions</th>\n",
       "    </tr>\n",
       "  </thead>\n",
       "  <tbody>\n",
       "    <tr>\n",
       "      <th>1205</th>\n",
       "      <td>7</td>\n",
       "      <td>6.123699</td>\n",
       "    </tr>\n",
       "    <tr>\n",
       "      <th>1206</th>\n",
       "      <td>7</td>\n",
       "      <td>6.123699</td>\n",
       "    </tr>\n",
       "    <tr>\n",
       "      <th>1207</th>\n",
       "      <td>5</td>\n",
       "      <td>5.425015</td>\n",
       "    </tr>\n",
       "    <tr>\n",
       "      <th>1208</th>\n",
       "      <td>7</td>\n",
       "      <td>6.123699</td>\n",
       "    </tr>\n",
       "    <tr>\n",
       "      <th>1209</th>\n",
       "      <td>7</td>\n",
       "      <td>6.192969</td>\n",
       "    </tr>\n",
       "    <tr>\n",
       "      <th>1210</th>\n",
       "      <td>6</td>\n",
       "      <td>5.648277</td>\n",
       "    </tr>\n",
       "    <tr>\n",
       "      <th>1211</th>\n",
       "      <td>5</td>\n",
       "      <td>5.419992</td>\n",
       "    </tr>\n",
       "    <tr>\n",
       "      <th>1212</th>\n",
       "      <td>6</td>\n",
       "      <td>5.648277</td>\n",
       "    </tr>\n",
       "    <tr>\n",
       "      <th>1213</th>\n",
       "      <td>6</td>\n",
       "      <td>6.076723</td>\n",
       "    </tr>\n",
       "    <tr>\n",
       "      <th>1214</th>\n",
       "      <td>6</td>\n",
       "      <td>5.939480</td>\n",
       "    </tr>\n",
       "  </tbody>\n",
       "</table>\n",
       "</div>"
      ],
      "text/plain": [
       "      expected  predictions\n",
       "1205         7     6.123699\n",
       "1206         7     6.123699\n",
       "1207         5     5.425015\n",
       "1208         7     6.123699\n",
       "1209         7     6.192969\n",
       "1210         6     5.648277\n",
       "1211         5     5.419992\n",
       "1212         6     5.648277\n",
       "1213         6     6.076723\n",
       "1214         6     5.939480"
      ]
     },
     "execution_count": 21,
     "metadata": {},
     "output_type": "execute_result"
    }
   ],
   "source": [
    "pd.DataFrame({'expected': expected, 'predictions': predictions})[5:15]"
   ]
  },
  {
   "cell_type": "markdown",
   "metadata": {},
   "source": [
    "We can see that the regression model doesn't do too badly on some of the records, though we would need a more formal way to measure this"
   ]
  },
  {
   "cell_type": "markdown",
   "metadata": {},
   "source": [
    "### Model Accuracy"
   ]
  },
  {
   "cell_type": "markdown",
   "metadata": {},
   "source": [
    "We split our data into train and test sets:"
   ]
  },
  {
   "cell_type": "code",
   "execution_count": 22,
   "metadata": {},
   "outputs": [],
   "source": [
    "x0 = np.ones((len(wine_train), 1)) # models the intercept\n",
    "X = wine_train.drop('quality', axis=1).values\n",
    "X = np.concatenate([x0, X], axis=1)\n",
    "\n",
    "train_y = wine_train['quality'].values\n",
    "train_y_hat = np.matmul(X, theta)"
   ]
  },
  {
   "cell_type": "code",
   "execution_count": 23,
   "metadata": {},
   "outputs": [],
   "source": [
    "x0 = np.ones((len(wine_test), 1)) # models the intercept\n",
    "X = wine_test.drop('quality', axis=1).values\n",
    "X = np.concatenate([x0, X], axis=1)\n",
    "\n",
    "test_y = wine_test['quality'].values\n",
    "test_y_hat = np.matmul(X, theta)"
   ]
  },
  {
   "cell_type": "markdown",
   "metadata": {},
   "source": [
    "A good benchmark is to check the performance against the most naive model. In the regression case, we can use a model that always predicts the mean response as a benchmark:"
   ]
  },
  {
   "cell_type": "code",
   "execution_count": 24,
   "metadata": {},
   "outputs": [],
   "source": [
    "benchmark_y_hat = np.ones(len(test_y)) * np.mean(test_y)"
   ]
  },
  {
   "cell_type": "markdown",
   "metadata": {},
   "source": [
    "#### Residual Sum of Squares (RSS)"
   ]
  },
  {
   "cell_type": "markdown",
   "metadata": {},
   "source": [
    "Formula:\n",
    "    \n",
    "$$RSS = \\sum_{i = 1}^{n} (y_i - \\hat{y_i})^2$$"
   ]
  },
  {
   "cell_type": "code",
   "execution_count": 25,
   "metadata": {},
   "outputs": [],
   "source": [
    "def rss(y_true, y_pred):\n",
    "    return np.dot(y_true - y_pred, y_true - y_pred)"
   ]
  },
  {
   "cell_type": "code",
   "execution_count": 26,
   "metadata": {},
   "outputs": [
    {
     "data": {
      "text/plain": [
       "488.86658602015399"
      ]
     },
     "execution_count": 26,
     "metadata": {},
     "output_type": "execute_result"
    }
   ],
   "source": [
    "train_rss = rss(train_y, train_y_hat)\n",
    "train_rss"
   ]
  },
  {
   "cell_type": "code",
   "execution_count": 27,
   "metadata": {},
   "outputs": [
    {
     "data": {
      "text/plain": [
       "183.08042389268061"
      ]
     },
     "execution_count": 27,
     "metadata": {},
     "output_type": "execute_result"
    }
   ],
   "source": [
    "test_rss = rss(test_y, test_y_hat)\n",
    "test_rss"
   ]
  },
  {
   "cell_type": "code",
   "execution_count": 28,
   "metadata": {},
   "outputs": [
    {
     "data": {
      "text/plain": [
       "252.79699248120298"
      ]
     },
     "execution_count": 28,
     "metadata": {},
     "output_type": "execute_result"
    }
   ],
   "source": [
    "rss(test_y, benchmark_y_hat)"
   ]
  },
  {
   "cell_type": "markdown",
   "metadata": {},
   "source": [
    "#### Residual Standard Error"
   ]
  },
  {
   "cell_type": "markdown",
   "metadata": {},
   "source": [
    "The RSE is an estimate of the standard deviation of $\\epsilon$. Roughly speaking, it is the average amount that the response will deviate from the true regression line."
   ]
  },
  {
   "cell_type": "markdown",
   "metadata": {},
   "source": [
    "Formula:\n",
    "\n",
    "$$RSE = \\sqrt{\\frac{RSS}{n - 2}}$$"
   ]
  },
  {
   "cell_type": "code",
   "execution_count": 29,
   "metadata": {},
   "outputs": [],
   "source": [
    "def rse(y_true, y_pred):\n",
    "    return np.sqrt(rss(y_true, y_pred) / (len(y_true) - 2))"
   ]
  },
  {
   "cell_type": "code",
   "execution_count": 30,
   "metadata": {},
   "outputs": [
    {
     "data": {
      "text/plain": [
       "0.63880273682707245"
      ]
     },
     "execution_count": 30,
     "metadata": {},
     "output_type": "execute_result"
    }
   ],
   "source": [
    "train_rse = rse(train_y, train_y_hat)\n",
    "train_rse"
   ]
  },
  {
   "cell_type": "code",
   "execution_count": 31,
   "metadata": {},
   "outputs": [
    {
     "data": {
      "text/plain": [
       "0.6790874449701394"
      ]
     },
     "execution_count": 31,
     "metadata": {},
     "output_type": "execute_result"
    }
   ],
   "source": [
    "test_rse = rse(test_y, test_y_hat)\n",
    "test_rse"
   ]
  },
  {
   "cell_type": "code",
   "execution_count": 32,
   "metadata": {},
   "outputs": [
    {
     "data": {
      "text/plain": [
       "0.79797759556625414"
      ]
     },
     "execution_count": 32,
     "metadata": {},
     "output_type": "execute_result"
    }
   ],
   "source": [
    "rse(test_y, benchmark_y_hat)"
   ]
  },
  {
   "cell_type": "markdown",
   "metadata": {},
   "source": [
    "#### Mean Squared Error"
   ]
  },
  {
   "cell_type": "code",
   "execution_count": 33,
   "metadata": {},
   "outputs": [],
   "source": [
    "def mse(y_true, y_pred):\n",
    "    return rss(y_true, y_pred) / len(y_true)"
   ]
  },
  {
   "cell_type": "code",
   "execution_count": 34,
   "metadata": {},
   "outputs": [
    {
     "data": {
      "text/plain": [
       "0.40738882168346163"
      ]
     },
     "execution_count": 34,
     "metadata": {},
     "output_type": "execute_result"
    }
   ],
   "source": [
    "train_mse = mse(train_y, train_y_hat)\n",
    "train_mse"
   ]
  },
  {
   "cell_type": "code",
   "execution_count": 35,
   "metadata": {},
   "outputs": [
    {
     "data": {
      "text/plain": [
       "0.45884818018215695"
      ]
     },
     "execution_count": 35,
     "metadata": {},
     "output_type": "execute_result"
    }
   ],
   "source": [
    "test_mse = mse(test_y, test_y_hat)\n",
    "test_mse"
   ]
  },
  {
   "cell_type": "code",
   "execution_count": 36,
   "metadata": {},
   "outputs": [
    {
     "data": {
      "text/plain": [
       "0.63357642225865407"
      ]
     },
     "execution_count": 36,
     "metadata": {},
     "output_type": "execute_result"
    }
   ],
   "source": [
    "mse(test_y, benchmark_y_hat)"
   ]
  },
  {
   "cell_type": "markdown",
   "metadata": {},
   "source": [
    "### The Bias-Variance Tradeoff"
   ]
  },
  {
   "cell_type": "code",
   "execution_count": null,
   "metadata": {},
   "outputs": [],
   "source": []
  },
  {
   "cell_type": "markdown",
   "metadata": {},
   "source": [
    "### Using Gradient Descent"
   ]
  },
  {
   "cell_type": "markdown",
   "metadata": {},
   "source": [
    "For cases where we have more than ~10k features (extremely common if you're considering polynomial regression, or including interaction terms), we can no longer use the Normal equation form. For such cases, we can use gradient descent."
   ]
  },
  {
   "cell_type": "markdown",
   "metadata": {},
   "source": [
    "In gradient descent, we move in the opposite direction of the gradient. For least-squares regression (what we've been doing till now), the gradient can be derived as follows:\n",
    "\n",
    "$J(\\theta) = \\frac{1}{n} \\sum_{i = 1}^{n} (\\hat{y_i} - y_i)^2 $\n",
    "\n",
    "$J(\\theta) = \\frac{1}{n} \\sum_{i = 1}^{n} (h_{\\theta}(x_i) - y_i)^2 $\n",
    "\n",
    "where \n",
    "\n",
    "$h_{\\theta}(x_i) = \\theta^T X$\n",
    "\n",
    "We have:\n",
    "\n",
    "$\\frac{dh}{d\\theta_j} = X_j$, where $X_j$ is the jth feature.\n",
    "\n",
    "Thus we get the partial derivative of J w.r.t. $\\theta_j$ as \n",
    "\n",
    "$\\frac{d J(\\theta)}{d\\theta_j} = \\frac{1}{n} \\sum_{i = 1}^{n} 2(h_{\\theta}(x_i) - y_i)X_{ij} $, \n",
    "\n",
    "where $X_{ij}$ is the jth feature in the ith example.\n",
    "\n",
    "The gradient is just the vector of all the partial derivatives. Also remember that our $X_0$ was just a dummy variable, and is always 1."
   ]
  },
  {
   "cell_type": "code",
   "execution_count": 37,
   "metadata": {},
   "outputs": [],
   "source": [
    "cars = np.genfromtxt('cars.csv', delimiter=',', names=True)\n",
    "\n",
    "x0 = np.ones(len(cars)) # Models the intercept\n",
    "x = cars['speed']\n",
    "\n",
    "X = np.array([x0, x]).T\n",
    "y = cars['dist']"
   ]
  },
  {
   "cell_type": "code",
   "execution_count": 38,
   "metadata": {},
   "outputs": [],
   "source": [
    "def evaluate_gradient(X, y, y_pred):\n",
    "    n = len(y_pred)\n",
    "    return (2/n) * np.matmul((y_pred - y), X)"
   ]
  },
  {
   "cell_type": "code",
   "execution_count": 39,
   "metadata": {},
   "outputs": [],
   "source": [
    "def gradient_descent(X, y, learning_rate=0.001, iters=20000):\n",
    "    # Initialize theta to all zeros\n",
    "    theta = np.zeros(X.shape[1])\n",
    "    \n",
    "    for i in range(iters):\n",
    "        # Predict\n",
    "        y_pred = np.matmul(X, theta)\n",
    "        \n",
    "        # Calculate gradient\n",
    "        theta_grad = evaluate_gradient(X, y, y_pred)\n",
    "        \n",
    "        # Update weights\n",
    "        theta = theta - learning_rate*theta_grad\n",
    "\n",
    "    return theta"
   ]
  },
  {
   "cell_type": "code",
   "execution_count": 40,
   "metadata": {
    "scrolled": false
   },
   "outputs": [],
   "source": [
    "theta = gradient_descent(X, y)"
   ]
  },
  {
   "cell_type": "code",
   "execution_count": 41,
   "metadata": {},
   "outputs": [
    {
     "data": {
      "text/plain": [
       "array([-17.2934172 ,   3.91577301])"
      ]
     },
     "execution_count": 41,
     "metadata": {},
     "output_type": "execute_result"
    }
   ],
   "source": [
    "theta"
   ]
  },
  {
   "cell_type": "code",
   "execution_count": 42,
   "metadata": {},
   "outputs": [
    {
     "data": {
      "image/png": "[encoded data removed]",
      "text/plain": [
       "<matplotlib.figure.Figure at 0x11a9ef898>"
      ]
     },
     "metadata": {},
     "output_type": "display_data"
    }
   ],
   "source": [
    "fig, ax = plt.subplots()\n",
    "ax.scatter(x, y)\n",
    "x1, x2 = ax.get_xlim()\n",
    "y1, y2 = np.dot(theta, [1, x1]), np.dot(theta, [1, x2])\n",
    "ax.plot([x1, x2], [y1, y2], linewidth=1, c='red')\n",
    "ax.grid()"
   ]
  },
  {
   "cell_type": "markdown",
   "metadata": {},
   "source": [
    "We can see that we get the same regression coefficients as we got from the Normal equations."
   ]
  },
  {
   "cell_type": "markdown",
   "metadata": {},
   "source": [
    "### The L1/L2 Norm"
   ]
  },
  {
   "cell_type": "code",
   "execution_count": null,
   "metadata": {},
   "outputs": [],
   "source": []
  }
 ],
 "metadata": {
  "kernelspec": {
   "display_name": "Python 3",
   "language": "python",
   "name": "python3"
  },
  "language_info": {
   "codemirror_mode": {
    "name": "ipython",
    "version": 3
   },
   "file_extension": ".py",
   "mimetype": "text/x-python",
   "name": "python",
   "nbconvert_exporter": "python",
   "pygments_lexer": "ipython3",
   "version": "3.6.4"
  },
  "varInspector": {
   "cols": {
    "lenName": 16,
    "lenType": 16,
    "lenVar": 40
   },
   "kernels_config": {
    "python": {
     "delete_cmd_postfix": "",
     "delete_cmd_prefix": "del ",
     "library": "var_list.py",
     "varRefreshCmd": "print(var_dic_list())"
    },
    "r": {
     "delete_cmd_postfix": ") ",
     "delete_cmd_prefix": "rm(",
     "library": "var_list.r",
     "varRefreshCmd": "cat(var_dic_list()) "
    }
   },
   "types_to_exclude": [
    "module",
    "function",
    "builtin_function_or_method",
    "instance",
    "_Feature"
   ],
   "window_display": false
  }
 },
 "nbformat": 4,
 "nbformat_minor": 2
}
