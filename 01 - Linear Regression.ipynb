{
 "cells": [
  {
   "cell_type": "markdown",
   "metadata": {},
   "source": [
    "## Session 01: Linear Regression"
   ]
  },
  {
   "cell_type": "code",
   "execution_count": 1,
   "metadata": {},
   "outputs": [],
   "source": [
    "import numpy as np"
   ]
  },
  {
   "cell_type": "code",
   "execution_count": 2,
   "metadata": {},
   "outputs": [],
   "source": [
    "np.random.seed(42)"
   ]
  },
  {
   "cell_type": "code",
   "execution_count": 30,
   "metadata": {},
   "outputs": [],
   "source": [
    "%matplotlib inline\n",
    "import matplotlib.pyplot as plt"
   ]
  },
  {
   "cell_type": "markdown",
   "metadata": {},
   "source": [
    "We'll use the wine quality data for this notebook"
   ]
  },
  {
   "cell_type": "code",
   "execution_count": 108,
   "metadata": {},
   "outputs": [],
   "source": [
    "community_columns = [\"state\", \"county\", \"community\", \"communityname\", \"fold\", \"population\", \"householdsize\", \"racepctblack\", \"racePctWhite\", \"racePctAsian\", \"racePctHisp\", \"agePct12t21\", \"agePct12t29\", \"agePct16t24\", \"agePct65up\", \"numbUrban\", \"pctUrban\", \"medIncome\", \"pctWWage\", \"pctWFarmSelf\", \"pctWInvInc\", \"pctWSocSec\", \"pctWPubAsst\", \"pctWRetire\", \"medFamInc\", \"perCapInc\", \"whitePerCap\", \"blackPerCap\", \"indianPerCap\", \"AsianPerCap\", \"OtherPerCap\", \"HispPerCap\", \"NumUnderPov\", \"PctPopUnderPov\", \"PctLess9thGrade\", \"PctNotHSGrad\", \"PctBSorMore\", \"PctUnemployed\", \"PctEmploy\", \"PctEmplManu\", \"PctEmplProfServ\", \"PctOccupManu\", \"PctOccupMgmtProf\", \"MalePctDivorce\", \"MalePctNevMarr\", \"FemalePctDiv\", \"TotalPctDiv\", \"PersPerFam\", \"PctFam2Par\", \"PctKids2Par\", \"PctYoungKids2Par\", \"PctTeen2Par\", \"PctWorkMomYoungKids\", \"PctWorkMom\", \"NumIlleg\", \"PctIlleg\", \"NumImmig\", \"PctImmigRecent\", \"PctImmigRec5\", \"PctImmigRec8\", \"PctImmigRec10\", \"PctRecentImmig\", \"PctRecImmig5\", \"PctRecImmig8\", \"PctRecImmig10\", \"PctSpeakEnglOnly\", \"PctNotSpeakEnglWell\", \"PctLargHouseFam\", \"PctLargHouseOccup\", \"PersPerOccupHous\", \"PersPerOwnOccHous\", \"PersPerRentOccHous\", \"PctPersOwnOccup\", \"PctPersDenseHous\", \"PctHousLess3BR\", \"MedNumBR\", \"HousVacant\", \"PctHousOccup\", \"PctHousOwnOcc\", \"PctVacantBoarded\", \"PctVacMore6Mos\", \"MedYrHousBuilt\", \"PctHousNoPhone\", \"PctWOFullPlumb\", \"OwnOccLowQuart\", \"OwnOccMedVal\", \"OwnOccHiQuart\", \"RentLowQ\", \"RentMedian\", \"RentHighQ\", \"MedRent\", \"MedRentPctHousInc\", \"MedOwnCostPctInc\", \"MedOwnCostPctIncNoMtg\", \"NumInShelters\", \"NumStreet\", \"PctForeignBorn\", \"PctBornSameState\", \"PctSameHouse85\", \"PctSameCity85\", \"PctSameState85\", \"LemasSwornFT\", \"LemasSwFTPerPop\", \"LemasSwFTFieldOps\", \"LemasSwFTFieldPerPop\", \"LemasTotalReq\", \"LemasTotReqPerPop\", \"PolicReqPerOffic\", \"PolicPerPop\", \"RacialMatchCommPol\", \"PctPolicWhite\", \"PctPolicBlack\", \"PctPolicHisp\", \"PctPolicAsian\", \"PctPolicMinor\", \"OfficAssgnDrugUnits\", \"NumKindsDrugsSeiz\", \"PolicAveOTWorked\", \"LandArea\", \"PopDens\", \"PctUsePubTrans\", \"PolicCars\", \"PolicOperBudg\", \"LemasPctPolicOnPatr\", \"LemasGangUnitDeploy\", \"LemasPctOfficDrugUn\", \"PolicBudgPerPop\", \"ViolentCrimesPerPop\"]\n",
    "communities = np.genfromtxt('communities.csv', delimiter=',', names=community_columns)"
   ]
  },
  {
   "cell_type": "code",
   "execution_count": 109,
   "metadata": {},
   "outputs": [
    {
     "data": {
      "text/plain": [
       "128"
      ]
     },
     "execution_count": 109,
     "metadata": {},
     "output_type": "execute_result"
    }
   ],
   "source": [
    "len(communities.dtype.names)"
   ]
  },
  {
   "cell_type": "markdown",
   "metadata": {},
   "source": [
    "### Univariate Linear Regression"
   ]
  },
  {
   "cell_type": "markdown",
   "metadata": {},
   "source": [
    "This is basically linear regression with 1 predictor variable."
   ]
  },
  {
   "cell_type": "markdown",
   "metadata": {},
   "source": [
    "Model:   \n",
    "$y = \\theta_0 + \\theta_1 x$"
   ]
  },
  {
   "cell_type": "markdown",
   "metadata": {},
   "source": [
    "There are two ways to fit a linear regression model, depending on the number of features. For a smaller number of features (say <10k), you can use the Normal equation form to solve for $\\theta$ directly.\n",
    "\n",
    "For more than 10k features, you probably want to use gradient descent."
   ]
  },
  {
   "cell_type": "markdown",
   "metadata": {},
   "source": [
    "Assuming that we write the model in matrix form as:\n",
    "\n",
    "$y = \\Theta^T X$,\n",
    "\n",
    "where $\\Theta, X \\in \\mathbb{R}^{n}$,\n",
    "\n",
    "The Normal equation is given by:\n",
    "\n",
    "$\\theta = (X^T X)^{-1} X^T y$"
   ]
  },
  {
   "cell_type": "code",
   "execution_count": 111,
   "metadata": {},
   "outputs": [],
   "source": [
    "x0 = np.ones(len(communities)) # Models the intercept\n",
    "x = communities['PctIlleg']"
   ]
  },
  {
   "cell_type": "code",
   "execution_count": 120,
   "metadata": {},
   "outputs": [],
   "source": [
    "X = np.array([x0, x]).T\n",
    "y = communities['ViolentCrimesPerPop']"
   ]
  },
  {
   "cell_type": "code",
   "execution_count": 121,
   "metadata": {},
   "outputs": [],
   "source": [
    "theta = np.matmul(np.matmul(np.linalg.inv(np.matmul(X.T, X)), X.T), y)"
   ]
  },
  {
   "cell_type": "code",
   "execution_count": 127,
   "metadata": {},
   "outputs": [
    {
     "data": {
      "text/plain": [
       "0.74770882059423016"
      ]
     },
     "execution_count": 127,
     "metadata": {},
     "output_type": "execute_result"
    }
   ],
   "source": [
    "theta[1]"
   ]
  },
  {
   "cell_type": "code",
   "execution_count": 122,
   "metadata": {},
   "outputs": [
    {
     "data": {
      "text/plain": [
       "array([ 0.05105548,  0.74770882])"
      ]
     },
     "execution_count": 122,
     "metadata": {},
     "output_type": "execute_result"
    }
   ],
   "source": [
    "theta"
   ]
  },
  {
   "cell_type": "code",
   "execution_count": 131,
   "metadata": {},
   "outputs": [
    {
     "data": {
      "image/png": "[encoded data removed]",
      "text/plain": [
       "<matplotlib.figure.Figure at 0x1a23918a58>"
      ]
     },
     "metadata": {},
     "output_type": "display_data"
    }
   ],
   "source": [
    "fig, ax = plt.subplots()\n",
    "ax.scatter(df['PctIlleg'], df['ViolentCrimesPerPop'])\n",
    "ax.plot([0, 1], theta, linewidth=3, c='red')\n",
    "ax.grid()"
   ]
  },
  {
   "cell_type": "markdown",
   "metadata": {},
   "source": [
    "### Multivariate Linear Regression"
   ]
  },
  {
   "cell_type": "markdown",
   "metadata": {},
   "source": [
    "This is linear regression with multiple predictor variables.\n",
    "\n",
    "Model:\n",
    "    \n",
    "$y = \\theta_0 + \\theta_1 x_1 + \\theta_2 x_2 + \\theta_3 x_3 \\ldots + \\theta_n x_n$"
   ]
  },
  {
   "cell_type": "code",
   "execution_count": 94,
   "metadata": {},
   "outputs": [],
   "source": [
    "df = pd.read_csv('communities.csv', header=None)"
   ]
  },
  {
   "cell_type": "code",
   "execution_count": 102,
   "metadata": {},
   "outputs": [
    {
     "name": "stdout",
     "output_type": "stream",
     "text": [
      "state : -0.211397515396\n",
      "fold : -0.0325766614238\n",
      "population : 0.367157378274\n",
      "householdsize : -0.0349225953359\n",
      "racepctblack : 0.63126363466\n",
      "racePctWhite : -0.684769576272\n",
      "racePctAsian : 0.0376217867814\n",
      "racePctHisp : 0.293050218125\n",
      "agePct12t21 : 0.0604772486579\n",
      "agePct12t29 : 0.153356688263\n",
      "agePct16t24 : 0.0993466802092\n",
      "agePct65up : 0.0671714539886\n",
      "numbUrban : 0.362897442226\n",
      "pctUrban : 0.082025419883\n",
      "medIncome : -0.424220616726\n",
      "pctWWage : -0.305500465833\n",
      "pctWFarmSelf : -0.153124350629\n",
      "pctWInvInc : -0.576323643921\n",
      "pctWSocSec : 0.11797715541\n",
      "pctWPubAsst : 0.574665267717\n",
      "pctWRetire : -0.0984422239112\n",
      "medFamInc : -0.439107738059\n",
      "perCapInc : -0.352084729608\n",
      "whitePerCap : -0.209272201391\n",
      "blackPerCap : -0.275391085714\n",
      "indianPerCap : -0.0908538163486\n",
      "AsianPerCap : -0.155591664727\n",
      "HispPerCap : -0.244552895666\n",
      "NumUnderPov : 0.447581641477\n",
      "PctPopUnderPov : 0.521876541272\n",
      "PctLess9thGrade : 0.411095513368\n",
      "PctNotHSGrad : 0.483365881578\n",
      "PctBSorMore : -0.314675178038\n",
      "PctUnemployed : 0.5042346421\n",
      "PctEmploy : -0.331642828195\n",
      "PctEmplManu : -0.0449060026617\n",
      "PctEmplProfServ : -0.0714826115386\n",
      "PctOccupManu : 0.295581227342\n",
      "PctOccupMgmtProf : -0.339109225464\n",
      "MalePctDivorce : 0.525407284155\n",
      "MalePctNevMarr : 0.304582923488\n",
      "FemalePctDiv : 0.556031877335\n",
      "TotalPctDiv : 0.552777386599\n",
      "PersPerFam : 0.140651345117\n",
      "PctFam2Par : -0.706667469157\n",
      "PctKids2Par : -0.73842380207\n",
      "PctYoungKids2Par : -0.666058895935\n",
      "PctTeen2Par : -0.66158164443\n",
      "PctWorkMomYoungKids : -0.0225353625617\n",
      "PctWorkMom : -0.150558260795\n",
      "NumIlleg : 0.471028142022\n",
      "PctIlleg : 0.737956549859\n",
      "NumImmig : 0.294239999945\n",
      "PctImmigRecent : 0.17187777166\n",
      "PctImmigRec5 : 0.216048975209\n",
      "PctImmigRec8 : 0.248135353362\n",
      "PctImmigRec10 : 0.291535996238\n",
      "PctRecentImmig : 0.230768560562\n",
      "PctRecImmig5 : 0.248044621496\n",
      "PctRecImmig8 : 0.253197241156\n",
      "PctRecImmig10 : 0.264263148005\n",
      "PctSpeakEnglOnly : -0.241465900329\n",
      "PctNotSpeakEnglWell : 0.300019042069\n",
      "PctLargHouseFam : 0.383479734764\n",
      "PctLargHouseOccup : 0.294804139444\n",
      "PersPerOccupHous : -0.0397391054135\n",
      "PersPerOwnOccHous : -0.124415955997\n",
      "PersPerRentOccHous : 0.248339786333\n",
      "PctPersOwnOccup : -0.525491144285\n",
      "PctPersDenseHous : 0.452900906934\n",
      "PctHousLess3BR : 0.474489903185\n",
      "MedNumBR : -0.357384742321\n",
      "HousVacant : 0.421395796121\n",
      "PctHousOccup : -0.31900965459\n",
      "PctHousOwnOcc : -0.470682589334\n",
      "PctVacantBoarded : 0.482815798947\n",
      "PctVacMore6Mos : 0.0212828282527\n",
      "MedYrHousBuilt : -0.109994394074\n",
      "PctHousNoPhone : 0.488243451793\n",
      "PctWOFullPlumb : 0.364453920508\n",
      "OwnOccLowQuart : -0.210549811617\n",
      "OwnOccMedVal : -0.19072420892\n",
      "OwnOccHiQuart : -0.172122091464\n",
      "RentLowQ : -0.251846936928\n",
      "RentMedian : -0.240493738144\n",
      "RentHighQ : -0.232290234666\n",
      "MedRent : -0.239863776841\n",
      "MedRentPctHousInc : 0.32504526148\n",
      "MedOwnCostPctInc : 0.0638466830557\n",
      "MedOwnCostPctIncNoMtg : 0.0537633108125\n",
      "NumInShelters : 0.375754152273\n",
      "NumStreet : 0.340276799399\n",
      "PctForeignBorn : 0.19439043713\n",
      "PctBornSameState : -0.0771589882642\n",
      "PctSameHouse85 : -0.155388184652\n",
      "PctSameCity85 : 0.0755579221611\n",
      "PctSameState85 : -0.0194589369987\n",
      "LandArea : 0.196799891154\n",
      "PopDens : 0.281389517379\n",
      "PctUsePubTrans : 0.153828846739\n",
      "LemasPctOfficDrugUn : 0.348627258025\n",
      "ViolentCrimesPerPop : 1.0\n"
     ]
    }
   ],
   "source": [
    "for field in df.columns:\n",
    "    try:\n",
    "        print(field, \":\", np.corrcoef(df[field], df['ViolentCrimesPerPop'])[1][0])\n",
    "    except:\n",
    "        pass"
   ]
  },
  {
   "cell_type": "code",
   "execution_count": 107,
   "metadata": {},
   "outputs": [
    {
     "data": {
      "text/plain": [
       "<matplotlib.collections.PathCollection at 0x1a29c3b2b0>"
      ]
     },
     "execution_count": 107,
     "metadata": {},
     "output_type": "execute_result"
    },
    {
     "data": {
      "image/png": "[encoded data removed]",
      "text/plain": [
       "<matplotlib.figure.Figure at 0x1a2ed6c5f8>"
      ]
     },
     "metadata": {},
     "output_type": "display_data"
    }
   ],
   "source": [
    "plt.scatter(df['PctIlleg'], df['ViolentCrimesPerPop'])"
   ]
  },
  {
   "cell_type": "code",
   "execution_count": null,
   "metadata": {},
   "outputs": [],
   "source": []
  }
 ],
 "metadata": {
  "kernelspec": {
   "display_name": "Python 3",
   "language": "python",
   "name": "python3"
  },
  "language_info": {
   "codemirror_mode": {
    "name": "ipython",
    "version": 3
   },
   "file_extension": ".py",
   "mimetype": "text/x-python",
   "name": "python",
   "nbconvert_exporter": "python",
   "pygments_lexer": "ipython3",
   "version": "3.6.4"
  },
  "varInspector": {
   "cols": {
    "lenName": 16,
    "lenType": 16,
    "lenVar": 40
   },
   "kernels_config": {
    "python": {
     "delete_cmd_postfix": "",
     "delete_cmd_prefix": "del ",
     "library": "var_list.py",
     "varRefreshCmd": "print(var_dic_list())"
    },
    "r": {
     "delete_cmd_postfix": ") ",
     "delete_cmd_prefix": "rm(",
     "library": "var_list.r",
     "varRefreshCmd": "cat(var_dic_list()) "
    }
   },
   "types_to_exclude": [
    "module",
    "function",
    "builtin_function_or_method",
    "instance",
    "_Feature"
   ],
   "window_display": false
  }
 },
 "nbformat": 4,
 "nbformat_minor": 2
}
